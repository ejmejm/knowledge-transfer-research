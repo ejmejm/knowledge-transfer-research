{
 "cells": [
  {
   "cell_type": "code",
   "execution_count": 1,
   "metadata": {},
   "outputs": [
    {
     "name": "stderr",
     "output_type": "stream",
     "text": [
      "Failed to detect the name of this notebook, you can set it manually with the WANDB_NOTEBOOK_NAME environment variable to enable code saving.\n",
      "\u001b[34m\u001b[1mwandb\u001b[0m: Currently logged in as: \u001b[33mejmejm\u001b[0m (use `wandb login --relogin` to force relogin)\n",
      "C:\\Users\\ninja\\.conda\\envs\\ml2\\lib\\site-packages\\IPython\\html.py:12: ShimWarning: The `IPython.html` package has been deprecated since IPython 4.0. You should import from `notebook` instead. `IPython.html.widgets` has moved to `ipywidgets`.\n",
      "  warn(\"The `IPython.html` package has been deprecated since IPython 4.0. \"\n",
      "\u001b[34m\u001b[1mwandb\u001b[0m: wandb version 0.12.15 is available!  To upgrade, please run:\n",
      "\u001b[34m\u001b[1mwandb\u001b[0m:  $ pip install wandb --upgrade\n"
     ]
    },
    {
     "data": {
      "text/html": [
       "\n",
       "                    Syncing run <strong><a href=\"https://wandb.ai/ejmejm/continual_backprop/runs/w9bvbq4y\" target=\"_blank\">easy-wood-27</a></strong> to <a href=\"https://wandb.ai/ejmejm/continual_backprop\" target=\"_blank\">Weights & Biases</a> (<a href=\"https://docs.wandb.com/integrations/jupyter.html\" target=\"_blank\">docs</a>).<br/>\n",
       "\n",
       "                "
      ],
      "text/plain": [
       "<IPython.core.display.HTML object>"
      ]
     },
     "metadata": {},
     "output_type": "display_data"
    }
   ],
   "source": [
    "import os\n",
    "import matplotlib.pyplot as plt\n",
    "import gym\n",
    "from gym_minigrid.wrappers import *\n",
    "from gym_minigrid.envs import EmptyEnv\n",
    "from gym_minigrid.minigrid import Grid\n",
    "from gym.wrappers import *\n",
    "import rl_representation as rl\n",
    "from rl_representation.src.envs.simulation import train_task_model\n",
    "import torch\n",
    "from torch import nn\n",
    "import cv2\n",
    "import numpy as np\n",
    "import copy\n",
    "import wandb\n",
    "from tqdm import tqdm\n",
    "\n",
    "# os.environ['WANDB_MODE'] = 'offline'\n",
    "wandb.init()\n",
    "\n",
    "%matplotlib inline"
   ]
  },
  {
   "cell_type": "code",
   "execution_count": 2,
   "metadata": {},
   "outputs": [],
   "source": [
    "class GridEnv(EmptyEnv):\n",
    "    def __init__(\n",
    "            self,\n",
    "            size=8,\n",
    "            agent_start_pos=None,\n",
    "            agent_start_dir=0,\n",
    "            goal_start_pos=None):\n",
    "        self.goal_start_pos = goal_start_pos\n",
    "        super().__init__(size, agent_start_pos, agent_start_dir)\n",
    "\n",
    "    def _gen_grid(self, width, height):\n",
    "        # Create an empty grid\n",
    "        self.grid = Grid(width, height)\n",
    "\n",
    "        # Generate the surrounding walls\n",
    "        self.grid.wall_rect(0, 0, width, height)\n",
    "\n",
    "        # Place a goal square in the bottom-right corner\n",
    "        if self.goal_start_pos is None:\n",
    "            self.put_obj(Goal(), self._rand_int(1, width-1), self._rand_int(1, width-1))\n",
    "        else:\n",
    "            self.put_obj(Goal(), self.goal_start_pos[0], self.goal_start_pos[1])\n",
    "\n",
    "        # Place the agent\n",
    "        if self.agent_start_pos is not None:\n",
    "            self.agent_pos = self.agent_start_pos\n",
    "            self.agent_dir = self.agent_start_dir\n",
    "        else:\n",
    "            self.place_agent()\n",
    "\n",
    "        self.mission = \"get to the green goal square\""
   ]
  },
  {
   "cell_type": "code",
   "execution_count": 3,
   "metadata": {},
   "outputs": [],
   "source": [
    "class SimplifyObsWrapper(gym.ObservationWrapper):\n",
    "  def __init__(self, env, grayscale=True, scale_factor=-1, rescale=True):\n",
    "    super().__init__(env)\n",
    "    self.grayscale = grayscale\n",
    "    self.scale_factor = scale_factor\n",
    "    self.rescale = rescale\n",
    "    obs_shape = self.env.observation_space.shape\n",
    "    if scale_factor > 0:\n",
    "      new_shape = [int(obs_shape[0] * scale_factor), int(obs_shape[1] * scale_factor)]\n",
    "    else:\n",
    "      new_shape = [obs_shape[0], obs_shape[1]]\n",
    "    if not grayscale:\n",
    "      new_shape = [3] + new_shape\n",
    "\n",
    "    self.observation_space = gym.spaces.Box(\n",
    "        low=0, high=1, shape=new_shape, dtype=np.float32)\n",
    "\n",
    "  def observation(self, observation):\n",
    "    # Convert to grayscale\n",
    "    if self.grayscale:\n",
    "      observation = np.sum(observation * np.array([[[0.2989, 0.5870, 0.1140]]]), axis=2)\n",
    "    else:\n",
    "      observation = observation.transpose(2, 0, 1)\n",
    "\n",
    "    # Downscale by a factor of 2\n",
    "    if self.scale_factor > 0 and self.scale_factor != 1:\n",
    "      observation = cv2.resize(observation, (0, 0), fx=self.scale_factor, fy=self.scale_factor)\n",
    "\n",
    "    # Rescale obs to [0, 1]\n",
    "    if self.rescale:\n",
    "      observation = observation / 255.0\n",
    "      \n",
    "    return observation\n",
    "\n",
    "class ColorShiftWrapper(gym.ObservationWrapper):\n",
    "  def __init__(self, env, color=None, strength=0.3):\n",
    "    super().__init__(env)\n",
    "    if color is None:\n",
    "      self.color = (np.random.rand(), np.random.rand(), np.random.rand())\n",
    "    else:\n",
    "      self.color = color\n",
    "    self.color = np.array(self.color) * 255\n",
    "    self.strength = strength\n",
    "    self.filter_img = np.full(\n",
    "      (self.env.observation_space.shape[0], self.env.observation_space.shape[1], 3),\n",
    "      (self.color), dtype=np.float32)\n",
    "\n",
    "  def observation(self, observation):\n",
    "    return observation * (1 - self.strength) + self.filter_img * self.strength\n",
    "\n",
    "def color_shift(obs, color, strength=0.3):\n",
    "  color_arr = np.array(color).reshape(1, 1, 3)\n",
    "  return obs * (1 - strength) + color_arr * strength\n",
    "\n",
    "def reverse_color_shift(obs, color, strength=0.3):\n",
    "  color_arr = np.array(color).reshape(1, 1, 3)\n",
    "  return (obs - color_arr * strength) / (1 - strength)\n",
    "\n",
    "class SimplifyActionsWrapper(gym.ActionWrapper):\n",
    "  def __init__(self, env):\n",
    "    super().__init__(env)\n",
    "    self.action_space = gym.spaces.Discrete(3)\n",
    "\n",
    "  def action(self, action):\n",
    "    if action > 2:\n",
    "      raise ValueError('Action must be between 0 and 2')\n",
    "    return action"
   ]
  },
  {
   "cell_type": "code",
   "execution_count": 4,
   "metadata": {},
   "outputs": [
    {
     "name": "stdout",
     "output_type": "stream",
     "text": [
      "Shape: (3, 40, 40) => 4800\n"
     ]
    },
    {
     "data": {
      "text/plain": [
       "<matplotlib.image.AxesImage at 0x1f466641520>"
      ]
     },
     "execution_count": 4,
     "metadata": {},
     "output_type": "execute_result"
    },
    {
     "data": {
      "image/png": "[encoded data removed]",
      "text/plain": [
       "<Figure size 432x288 with 1 Axes>"
      ]
     },
     "metadata": {
      "needs_background": "light"
     },
     "output_type": "display_data"
    }
   ],
   "source": [
    "def make_env(color_shift=None, shift_strength=0.3):\n",
    "    env = GridEnv(size=5) # gym.make('MiniGrid-Empty-Random-6x6-v0')\n",
    "    env = RGBImgObsWrapper(env) # Get pixel observations\n",
    "    env = ImgObsWrapper(env) # Get rid of the 'mission' field\n",
    "    if color_shift:\n",
    "        env = ColorShiftWrapper(env, color_shift, shift_strength)\n",
    "    env = SimplifyObsWrapper(env, False) # Downscale and grayscale\n",
    "    return env\n",
    "    \n",
    "env = make_env()\n",
    "obs = env.reset() # This now produces an RGB tensor only\n",
    "\n",
    "print('Shape:', obs.shape, '=>', np.prod(obs.shape))\n",
    "plt.imshow(obs.transpose(1, 2, 0))"
   ]
  },
  {
   "cell_type": "code",
   "execution_count": null,
   "metadata": {},
   "outputs": [],
   "source": []
  },
  {
   "cell_type": "code",
   "execution_count": 8,
   "metadata": {},
   "outputs": [],
   "source": [
    "device = 'cuda'\n",
    "\n",
    "hidden_size = 64\n",
    "encoder = nn.Sequential(\n",
    "        nn.Conv2d(3, 16, kernel_size=5, stride=2),\n",
    "        nn.ReLU(),\n",
    "        nn.Conv2d(16, 32, kernel_size=3, stride=2),\n",
    "        nn.ReLU(),\n",
    "        nn.Conv2d(32, 64, kernel_size=3, stride=2),\n",
    "        nn.ReLU(),\n",
    "        nn.Conv2d(64, 64, kernel_size=3),\n",
    "        nn.ReLU())\n",
    "\n",
    "# Create task agent\n",
    "# model = rl.models.DDDQNNetwork(list(env.observation_space.shape), env.action_space.n,\n",
    "#                 encoder=copy.deepcopy(encoder), hidden_size = hidden_size)\n",
    "\n",
    "policy = rl.models.PolicyNetwork(list(env.observation_space.shape), env.action_space.n,\n",
    "                encoder=copy.deepcopy(encoder) if encoder else None).to(device)\n",
    "critic = rl.models.CriticNetwork(list(env.observation_space.shape),\n",
    "                encoder=copy.deepcopy(encoder) if encoder else None).to(device)\n",
    "\n",
    "agent = rl.agents.PPOAgent(env, policy, critic, normalize_rewards=True, log_freq=-1)"
   ]
  },
  {
   "cell_type": "code",
   "execution_count": 9,
   "metadata": {},
   "outputs": [
    {
     "name": "stdout",
     "output_type": "stream",
     "text": [
      "[1200, 16, 4608, 32, 18432, 64, 36864, 64, 16384, 256, 1792, 7]\n",
      "79719\n",
      "PolicyNetwork(\n",
      "  (layers): Sequential(\n",
      "    (0): Sequential(\n",
      "      (0): Conv2d(3, 16, kernel_size=(5, 5), stride=(2, 2))\n",
      "      (1): ReLU()\n",
      "      (2): Conv2d(16, 32, kernel_size=(3, 3), stride=(2, 2))\n",
      "      (3): ReLU()\n",
      "      (4): Conv2d(32, 64, kernel_size=(3, 3), stride=(2, 2))\n",
      "      (5): ReLU()\n",
      "      (6): Conv2d(64, 64, kernel_size=(3, 3), stride=(1, 1))\n",
      "      (7): ReLU()\n",
      "    )\n",
      "    (1): Flatten(start_dim=1, end_dim=-1)\n",
      "    (2): Linear(in_features=64, out_features=256, bias=True)\n",
      "    (3): ReLU()\n",
      "    (4): Linear(in_features=256, out_features=7, bias=True)\n",
      "  )\n",
      ")\n"
     ]
    }
   ],
   "source": [
    "print([p.numel() for p in policy.parameters()])\n",
    "print(sum([p.numel() for p in policy.parameters()]))\n",
    "print(agent.policy)"
   ]
  },
  {
   "cell_type": "code",
   "execution_count": 10,
   "metadata": {},
   "outputs": [
    {
     "name": "stderr",
     "output_type": "stream",
     "text": [
      "e:\\projects\\continual_backprop\\rl_representation\\src\\agents\\ppo.py:65: UserWarning: To copy construct from a tensor, it is recommended to use sourceTensor.clone().detach() or sourceTensor.clone().detach().requires_grad_(True), rather than torch.tensor(sourceTensor).\n",
      "  batch_data = [torch.tensor(e, dtype=torch.float32) \\\n"
     ]
    },
    {
     "name": "stdout",
     "output_type": "stream",
     "text": [
      "Step: 1000 | Episodes: 10 | Ep rewards: 0.0956\n",
      "Step: 2000 | Episodes: 16 | Ep rewards: 0.3707\n",
      "Step: 3000 | Episodes: 13 | Ep rewards: 0.2601\n",
      "Step: 4000 | Episodes: 15 | Ep rewards: 0.3630\n",
      "Step: 5000 | Episodes: 14 | Ep rewards: 0.3265\n",
      "Step: 6000 | Episodes: 15 | Ep rewards: 0.3371\n",
      "Step: 7000 | Episodes: 13 | Ep rewards: 0.2142\n",
      "Step: 8000 | Episodes: 16 | Ep rewards: 0.4332\n",
      "Step: 9000 | Episodes: 12 | Ep rewards: 0.2180\n",
      "Step: 10000 | Episodes: 15 | Ep rewards: 0.3388\n",
      "Step: 11000 | Episodes: 16 | Ep rewards: 0.3419\n",
      "Step: 12000 | Episodes: 12 | Ep rewards: 0.1811\n",
      "Step: 13000 | Episodes: 11 | Ep rewards: 0.1147\n",
      "Step: 14000 | Episodes: 13 | Ep rewards: 0.2593\n",
      "Step: 15000 | Episodes: 26 | Ep rewards: 0.6368\n",
      "Step: 16000 | Episodes: 40 | Ep rewards: 0.7704\n",
      "Step: 17000 | Episodes: 38 | Ep rewards: 0.7536\n",
      "Step: 18000 | Episodes: 39 | Ep rewards: 0.7667\n",
      "Step: 19000 | Episodes: 36 | Ep rewards: 0.7510\n",
      "Step: 20000 | Episodes: 29 | Ep rewards: 0.6731\n",
      "Step: 21000 | Episodes: 34 | Ep rewards: 0.7256\n",
      "Step: 22000 | Episodes: 30 | Ep rewards: 0.7005\n",
      "Step: 23000 | Episodes: 53 | Ep rewards: 0.8242\n",
      "Step: 24000 | Episodes: 28 | Ep rewards: 0.6595\n",
      "Step: 25000 | Episodes: 69 | Ep rewards: 0.8675\n",
      "Step: 26000 | Episodes: 88 | Ep rewards: 0.8988\n",
      "Step: 27000 | Episodes: 68 | Ep rewards: 0.8667\n",
      "Step: 28000 | Episodes: 84 | Ep rewards: 0.8926\n",
      "Step: 29000 | Episodes: 108 | Ep rewards: 0.9172\n",
      "Step: 30000 | Episodes: 110 | Ep rewards: 0.9179\n",
      "Step: 31000 | Episodes: 120 | Ep rewards: 0.9262\n",
      "Step: 32000 | Episodes: 157 | Ep rewards: 0.9418\n",
      "Step: 33000 | Episodes: 47 | Ep rewards: 0.8107\n",
      "Step: 34000 | Episodes: 14 | Ep rewards: 0.3039\n",
      "Step: 35000 | Episodes: 14 | Ep rewards: 0.2884\n",
      "Step: 36000 | Episodes: 11 | Ep rewards: 0.0901\n",
      "Step: 37000 | Episodes: 14 | Ep rewards: 0.2741\n",
      "Step: 38000 | Episodes: 12 | Ep rewards: 0.1593\n",
      "Step: 39000 | Episodes: 13 | Ep rewards: 0.2509\n",
      "Step: 40000 | Episodes: 13 | Ep rewards: 0.2412\n",
      "Step: 41000 | Episodes: 14 | Ep rewards: 0.2877\n",
      "Step: 42000 | Episodes: 12 | Ep rewards: 0.1578\n",
      "Step: 43000 | Episodes: 14 | Ep rewards: 0.2954\n",
      "Step: 44000 | Episodes: 13 | Ep rewards: 0.2309\n",
      "Step: 45000 | Episodes: 13 | Ep rewards: 0.2440\n",
      "Step: 46000 | Episodes: 12 | Ep rewards: 0.2276\n",
      "Step: 47000 | Episodes: 14 | Ep rewards: 0.2652\n",
      "Step: 48000 | Episodes: 12 | Ep rewards: 0.1570\n",
      "Step: 49000 | Episodes: 13 | Ep rewards: 0.2621\n",
      "Step: 50000 | Episodes: 12 | Ep rewards: 0.1915\n",
      "Step: 51000 | Episodes: 12 | Ep rewards: 0.1652\n",
      "Step: 52000 | Episodes: 14 | Ep rewards: 0.2774\n",
      "Step: 53000 | Episodes: 12 | Ep rewards: 0.1750\n",
      "Step: 54000 | Episodes: 12 | Ep rewards: 0.1757\n",
      "Step: 55000 | Episodes: 13 | Ep rewards: 0.2309\n",
      "Step: 56000 | Episodes: 11 | Ep rewards: 0.1745\n",
      "Step: 57000 | Episodes: 13 | Ep rewards: 0.1976\n",
      "Step: 58000 | Episodes: 14 | Ep rewards: 0.3374\n",
      "Step: 59000 | Episodes: 11 | Ep rewards: 0.0549\n",
      "Step: 60000 | Episodes: 10 | Ep rewards: 0.0469\n",
      "Step: 61000 | Episodes: 15 | Ep rewards: 0.3329\n",
      "Step: 62000 | Episodes: 13 | Ep rewards: 0.2392\n",
      "Step: 63000 | Episodes: 14 | Ep rewards: 0.3290\n",
      "Step: 64000 | Episodes: 12 | Ep rewards: 0.1810\n",
      "Step: 65000 | Episodes: 13 | Ep rewards: 0.2199\n",
      "Step: 66000 | Episodes: 14 | Ep rewards: 0.2716\n",
      "Step: 67000 | Episodes: 12 | Ep rewards: 0.1931\n",
      "Step: 68000 | Episodes: 11 | Ep rewards: 0.0967\n",
      "Step: 69000 | Episodes: 11 | Ep rewards: 0.0975\n",
      "Step: 70000 | Episodes: 12 | Ep rewards: 0.1787\n",
      "Step: 71000 | Episodes: 15 | Ep rewards: 0.3538\n",
      "Step: 72000 | Episodes: 12 | Ep rewards: 0.1300\n",
      "Step: 73000 | Episodes: 11 | Ep rewards: 0.1671\n",
      "Step: 74000 | Episodes: 12 | Ep rewards: 0.1263\n",
      "Step: 75000 | Episodes: 13 | Ep rewards: 0.2211\n",
      "Step: 76000 | Episodes: 12 | Ep rewards: 0.1915\n",
      "Step: 77000 | Episodes: 13 | Ep rewards: 0.2787\n",
      "Step: 78000 | Episodes: 12 | Ep rewards: 0.1442\n",
      "Step: 79000 | Episodes: 12 | Ep rewards: 0.1465\n",
      "Step: 80000 | Episodes: 10 | Ep rewards: 0.0172\n",
      "Step: 81000 | Episodes: 13 | Ep rewards: 0.2578\n",
      "Step: 82000 | Episodes: 14 | Ep rewards: 0.3251\n",
      "Step: 83000 | Episodes: 14 | Ep rewards: 0.2555\n",
      "Step: 84000 | Episodes: 12 | Ep rewards: 0.2065\n",
      "Step: 85000 | Episodes: 12 | Ep rewards: 0.1644\n",
      "Step: 86000 | Episodes: 12 | Ep rewards: 0.1495\n",
      "Step: 87000 | Episodes: 14 | Ep rewards: 0.2703\n",
      "Step: 88000 | Episodes: 14 | Ep rewards: 0.3484\n",
      "Step: 89000 | Episodes: 14 | Ep rewards: 0.2851\n",
      "Step: 90000 | Episodes: 13 | Ep rewards: 0.2025\n",
      "Step: 91000 | Episodes: 12 | Ep rewards: 0.2462\n",
      "Step: 92000 | Episodes: 11 | Ep rewards: 0.0606\n",
      "Step: 93000 | Episodes: 15 | Ep rewards: 0.3473\n",
      "Step: 94000 | Episodes: 12 | Ep rewards: 0.1570\n",
      "Step: 95000 | Episodes: 13 | Ep rewards: 0.2246\n",
      "Step: 96000 | Episodes: 11 | Ep rewards: 0.1221\n",
      "Step: 97000 | Episodes: 12 | Ep rewards: 0.1637\n",
      "Step: 98000 | Episodes: 10 | Ep rewards: 0.0000\n",
      "Step: 99000 | Episodes: 12 | Ep rewards: 0.1524\n"
     ]
    }
   ],
   "source": [
    "n_steps = 100000\n",
    "print_freq = 1000\n",
    "\n",
    "train_task_model(agent, env, n_steps, print_freq=print_freq)"
   ]
  },
  {
   "cell_type": "markdown",
   "metadata": {},
   "source": [
    "# Testing the agent"
   ]
  },
  {
   "cell_type": "code",
   "execution_count": 9,
   "metadata": {},
   "outputs": [],
   "source": [
    "def test_agent(agent, env, n_episodes=10):\n",
    "    rewards = []\n",
    "    for _ in range(n_episodes):\n",
    "        obs = env.reset()\n",
    "        done = False\n",
    "        total_reward = 0.0\n",
    "        global hist\n",
    "        hist = []\n",
    "        while not done:\n",
    "            action = agent.sample_act(obs)\n",
    "            obs, reward, done, _ = env.step(action)\n",
    "            hist.append(obs)\n",
    "            total_reward += reward\n",
    "        rewards.append(total_reward)\n",
    "    return np.mean(rewards)"
   ]
  },
  {
   "cell_type": "code",
   "execution_count": 10,
   "metadata": {},
   "outputs": [
    {
     "name": "stdout",
     "output_type": "stream",
     "text": [
      "Base agent reward: 0.94\n"
     ]
    }
   ],
   "source": [
    "base_reward = test_agent(agent, env, n_episodes=30)\n",
    "print(f'Base agent reward: {base_reward:.2f}')"
   ]
  },
  {
   "cell_type": "markdown",
   "metadata": {},
   "source": [
    "# Testing agent performance with color shifts"
   ]
  },
  {
   "cell_type": "code",
   "execution_count": 11,
   "metadata": {},
   "outputs": [
    {
     "data": {
      "image/png": "[encoded data removed]",
      "text/plain": [
       "<Figure size 432x288 with 1 Axes>"
      ]
     },
     "metadata": {
      "needs_background": "light"
     },
     "output_type": "display_data"
    }
   ],
   "source": [
    "strengths = [0, 0.01, 0.05, 0.1, 0.2, 0.3, 0.4, 0.5, 0.6, 0.7, 0.8, 0.9, 1]\n",
    "colors = {\n",
    "    'r': (1, 0, 0),\n",
    "    'g': (0, 1, 0),\n",
    "    'b': (0, 0, 1)}\n",
    "\n",
    "for color, rgb in colors.items():\n",
    "    performance = []\n",
    "    for strength in strengths:\n",
    "        filter_env = make_env(color_shift=rgb, shift_strength=strength)\n",
    "        filter_reward = test_agent(agent, filter_env, n_episodes=30)\n",
    "        performance.append(filter_reward)\n",
    "\n",
    "    # plot with red line color\n",
    "    plt.plot(strengths, performance, color)\n",
    "\n",
    "plt.title('Avg. Reward with Color Shifts')\n",
    "plt.xlabel('Color Shift Strength (%)')\n",
    "plt.ylabel('Avg. Reward');\n"
   ]
  },
  {
   "cell_type": "markdown",
   "metadata": {},
   "source": [
    "## Remaining Tasks\n",
    "- Create an activation function that zeros out certain nodes\n",
    "- Get a mapping of the gradients for each nodes after many steps on the transfer task\n",
    "- Make a function that makes a activation function mask for nodes within a certain percentile\n",
    "- Try dropping those weights\n",
    "- Try dropping nodes that meet a threshold number of outgoing weights dropped"
   ]
  },
  {
   "cell_type": "code",
   "execution_count": 12,
   "metadata": {},
   "outputs": [],
   "source": [
    "def freeze_agent(agent):\n",
    "    for param in agent.model.parameters():\n",
    "        param.requires_grad = False\n",
    "    for param in agent.target_model.parameters():\n",
    "        param.requires_grad = False\n",
    "\n",
    "def unfreeze_agent(agent):\n",
    "    for param in agent.model.parameters():\n",
    "        param.requires_grad = True\n",
    "    for param in agent.target_model.parameters():\n",
    "        param.requires_grad = True"
   ]
  },
  {
   "cell_type": "code",
   "execution_count": 13,
   "metadata": {},
   "outputs": [
    {
     "data": {
      "image/png": "[encoded data removed]",
      "text/plain": [
       "<Figure size 432x288 with 1 Axes>"
      ]
     },
     "metadata": {
      "needs_background": "light"
     },
     "output_type": "display_data"
    }
   ],
   "source": [
    "filter_env = make_env(color_shift=(0, 0, 1,), shift_strength=0.4)\n",
    "plt.imshow(filter_env.reset().transpose(1, 2, 0))\n",
    "transfer_agent = rl.agents.DDDQNAgent(filter_env, copy.deepcopy(agent.model), log_freq=-1, learning_start=int(1e9))"
   ]
  },
  {
   "cell_type": "code",
   "execution_count": 14,
   "metadata": {},
   "outputs": [
    {
     "name": "stdout",
     "output_type": "stream",
     "text": [
      "Step: 5000 | Episodes: 87 | Ep rewards: 0.4403\n"
     ]
    }
   ],
   "source": [
    "# Generate data\n",
    "steps = 10000\n",
    "train_task_model(transfer_agent, filter_env, steps, print_freq=print_freq*5)"
   ]
  },
  {
   "cell_type": "code",
   "execution_count": 87,
   "metadata": {},
   "outputs": [
    {
     "name": "stderr",
     "output_type": "stream",
     "text": [
      "e:\\projects\\continual_backprop\\rl_representation\\src\\agents\\dqn.py:111: UserWarning: To copy construct from a tensor, it is recommended to use sourceTensor.clone().detach() or sourceTensor.clone().detach().requires_grad_(True), rather than torch.tensor(sourceTensor).\n",
      "  batch_data = [torch.tensor(e, dtype=torch.float32, device=self.device) \\\n"
     ]
    }
   ],
   "source": [
    "# Get gradient errors on the transfer problem\n",
    "transfer_agent.optimizer.zero_grad()\n",
    "grad_steps = 50\n",
    "grad_sums = [torch.zeros_like(p) for p in transfer_agent.model.parameters()]\n",
    "for _ in range(grad_steps):\n",
    "    transfer_agent.calculate_losses().mean().backward()\n",
    "    for i, param in enumerate(transfer_agent.model.parameters()):\n",
    "        grad_sums[i] += torch.abs(param.grad)\n",
    "        # print(torch.sum(param.grad != 0) / param.numel())\n",
    "        # break\n",
    "    transfer_agent.optimizer.zero_grad()"
   ]
  },
  {
   "cell_type": "code",
   "execution_count": 68,
   "metadata": {},
   "outputs": [],
   "source": [
    "# param = list(transfer_agent.model.parameters())[0]\n",
    "# torch.sum(param == 0) / param.numel()\n",
    "# torch.sum(grad_sums[0] != 0) / grad_sums[0].numel()"
   ]
  },
  {
   "cell_type": "code",
   "execution_count": 92,
   "metadata": {},
   "outputs": [
    {
     "name": "stdout",
     "output_type": "stream",
     "text": [
      "Param #10, 0.11% removed\n"
     ]
    }
   ],
   "source": [
    "backup_ta = copy.deepcopy(transfer_agent)\n",
    "reset_frac = 0.001\n",
    "for i, (grads, param) in enumerate(zip(grad_sums, transfer_agent.model.parameters())):\n",
    "    if i != len(grad_sums) - 2:\n",
    "        continue\n",
    "    reset_threshold = torch.quantile(grads, 1-reset_frac)\n",
    "    reset_threshold = max(reset_threshold, 1e-5)\n",
    "    mask = grads < reset_threshold\n",
    "    print('Param #{}, {:.2f}% removed'.format(i, 100 - (mask.sum().item() / mask.numel() * 100)))\n",
    "    with torch.no_grad():\n",
    "        param *= mask.float()"
   ]
  },
  {
   "cell_type": "code",
   "execution_count": 134,
   "metadata": {},
   "outputs": [
    {
     "name": "stdout",
     "output_type": "stream",
     "text": [
      "Differences: 0\n",
      "Differences: 0\n",
      "Differences: 0\n",
      "Differences: 0\n",
      "Differences: 0\n",
      "Differences: 0\n",
      "Differences: 0\n",
      "Differences: 0\n",
      "Differences: 0\n",
      "Differences: 0\n",
      "Differences: 0\n",
      "Differences: 0\n",
      "Non-zero grad frac: 0.8504464626312256\n"
     ]
    }
   ],
   "source": [
    "for p1, p2 in zip(backup_ta.model.parameters(), transfer_agent.model.parameters()):\n",
    "    print('Differences:', torch.sum(p1 != p2).item())\n",
    "print('Non-zero grad frac:', (grad_sums[-2].count_nonzero() / grad_sums[-2].numel()).item())"
   ]
  },
  {
   "cell_type": "code",
   "execution_count": 15,
   "metadata": {},
   "outputs": [
    {
     "name": "stdout",
     "output_type": "stream",
     "text": [
      "\n",
      "Pruning iteration #1\n",
      "Base agent reward: 0.48\n",
      "Hidden unit 0: 0.42\n",
      "Hidden unit 1: 0.27\n",
      "Hidden unit 2: 0.21\n",
      "Hidden unit 3: 0.40\n",
      "Hidden unit 4: 0.21\n",
      "Hidden unit 5: 0.35\n",
      "Hidden unit 6: 0.47\n",
      "Hidden unit 7: 0.38\n",
      "Hidden unit 8: 0.40\n",
      "Hidden unit 9: 0.34\n",
      "Hidden unit 10: 0.35\n",
      "Hidden unit 11: 0.47\n",
      "Hidden unit 12: 0.32\n",
      "Hidden unit 13: 0.50\n",
      "Hidden unit 14: 0.34\n",
      "Hidden unit 15: 0.23\n",
      "Hidden unit 16: 0.39\n",
      "Hidden unit 17: 0.40\n",
      "Hidden unit 18: 0.38\n",
      "Hidden unit 19: 0.45\n",
      "Hidden unit 20: 0.28\n",
      "Hidden unit 21: 0.24\n",
      "Hidden unit 22: 0.34\n",
      "Hidden unit 23: 0.30\n",
      "Hidden unit 24: 0.30\n",
      "Hidden unit 25: 0.44\n",
      "Hidden unit 26: 0.21\n",
      "Hidden unit 27: 0.38\n",
      "Hidden unit 28: 0.48\n",
      "Hidden unit 29: 0.42\n",
      "Hidden unit 30: 0.32\n",
      "Hidden unit 31: 0.14\n",
      "Hidden unit 32: 0.26\n",
      "Hidden unit 33: 0.44\n",
      "Hidden unit 34: 0.23\n",
      "Hidden unit 35: 0.19\n",
      "Hidden unit 36: 0.25\n",
      "Hidden unit 37: 0.19\n",
      "Hidden unit 38: 0.27\n",
      "Hidden unit 39: 0.10\n",
      "Hidden unit 40: 0.10\n",
      "Hidden unit 41: 0.08\n",
      "Hidden unit 42: 0.13\n",
      "Hidden unit 43: 0.14\n",
      "Hidden unit 44: 0.07\n",
      "Hidden unit 45: 0.18\n",
      "Hidden unit 46: 0.22\n",
      "Hidden unit 47: 0.25\n",
      "Hidden unit 48: 0.16\n",
      "Hidden unit 49: 0.03\n",
      "Hidden unit 50: 0.05\n",
      "Hidden unit 51: 0.02\n",
      "Hidden unit 52: 0.04\n",
      "Hidden unit 53: 0.01\n",
      "Hidden unit 54: 0.04\n",
      "Hidden unit 55: 0.13\n",
      "Hidden unit 56: 0.18\n",
      "Hidden unit 57: 0.17\n",
      "Hidden unit 58: 0.24\n",
      "Hidden unit 59: 0.28\n",
      "Hidden unit 60: 0.19\n",
      "Hidden unit 61: 0.10\n",
      "Hidden unit 62: 0.22\n",
      "Hidden unit 63: 0.33\n"
     ]
    }
   ],
   "source": [
    "removed_hidden_units = set([])\n",
    "target_layer = list(transfer_agent.model.parameters())[-1]\n",
    "\n",
    "for i in range(target_layer.shape[1]):\n",
    "    print('\\nPruning iteration #{}'.format(i+1))\n",
    "    base_reward = test_agent(transfer_agent, filter_env, n_episodes=100)\n",
    "    print(f'Base agent reward: {base_reward:.2f}')\n",
    "    hidden_rewards = []\n",
    "    for input_idx in range(target_layer.shape[1]):\n",
    "        if input_idx in removed_hidden_units:\n",
    "            hidden_rewards.append(-1)\n",
    "        else:\n",
    "            with torch.no_grad():\n",
    "                old_vals = target_layer[:, input_idx]\n",
    "                target_layer[:, input_idx] = 0\n",
    "                reward = test_agent(transfer_agent, filter_env, n_episodes=50)\n",
    "                hidden_rewards.append(reward)\n",
    "                print('Hidden unit {}: {:.2f}'.format(input_idx, reward))\n",
    "                target_layer[:, input_idx] = old_vals\n",
    "    max_idx = np.argmax(hidden_rewards)\n",
    "    if hidden_rewards[max_idx] > base_reward * 1.1:\n",
    "        print('Removing hidden unit {}'.format(max_idx))\n",
    "        with torch.no_grad():\n",
    "            target_layer[:, max_idx] = 0\n",
    "        removed_hidden_units.add(max_idx)\n",
    "    else:\n",
    "        break"
   ]
  },
  {
   "cell_type": "code",
   "execution_count": 109,
   "metadata": {},
   "outputs": [
    {
     "name": "stdout",
     "output_type": "stream",
     "text": [
      "Transfer agent reward: 0.49\n"
     ]
    }
   ],
   "source": [
    "base_reward = test_agent(transfer_agent, filter_env, n_episodes=10)\n",
    "print(f'Transfer agent reward: {base_reward:.2f}')"
   ]
  },
  {
   "cell_type": "code",
   "execution_count": 101,
   "metadata": {},
   "outputs": [],
   "source": [
    "transfer_agent = copy.deepcopy(backup_ta)"
   ]
  },
  {
   "cell_type": "code",
   "execution_count": null,
   "metadata": {},
   "outputs": [],
   "source": []
  },
  {
   "cell_type": "code",
   "execution_count": null,
   "metadata": {},
   "outputs": [],
   "source": []
  },
  {
   "cell_type": "code",
   "execution_count": null,
   "metadata": {},
   "outputs": [],
   "source": []
  },
  {
   "cell_type": "code",
   "execution_count": null,
   "metadata": {},
   "outputs": [],
   "source": []
  },
  {
   "cell_type": "code",
   "execution_count": null,
   "metadata": {},
   "outputs": [],
   "source": []
  },
  {
   "cell_type": "code",
   "execution_count": 69,
   "metadata": {},
   "outputs": [
    {
     "data": {
      "text/plain": [
       "Sequential(\n",
       "  (0): Sequential(\n",
       "    (0): Flatten(start_dim=1, end_dim=-1)\n",
       "    (1): Linear(in_features=9408, out_features=256, bias=True)\n",
       "    (2): ReLU()\n",
       "  )\n",
       "  (1): Flatten(start_dim=1, end_dim=-1)\n",
       "  (2): Linear(in_features=256, out_features=128, bias=True)\n",
       "  (3): ReLU()\n",
       ")"
      ]
     },
     "execution_count": 69,
     "metadata": {},
     "output_type": "execute_result"
    }
   ],
   "source": [
    "transfer_agent.model.value_layers[:-1]"
   ]
  },
  {
   "cell_type": "code",
   "execution_count": null,
   "metadata": {},
   "outputs": [
    {
     "data": {
      "text/plain": [
       "tensor([[0.1843, 0.0000, 0.0000, 0.1811, 0.0530, 0.0000, 0.0000, 0.2444, 0.0000,\n",
       "         0.2402, 0.0000, 0.1215, 0.2800, 0.0000, 0.1117, 0.1126, 0.0000, 0.1164,\n",
       "         0.1206, 0.0000, 0.0000, 0.0798, 0.0000, 0.0000, 0.2593, 0.0000, 0.0000,\n",
       "         0.0000, 0.0000, 0.0151, 0.0000, 0.1790, 0.0000, 0.1138, 0.0107, 0.0000,\n",
       "         0.1679, 0.1016, 0.0000, 0.0000, 0.2751, 0.1968, 0.0000, 0.0000, 0.1790,\n",
       "         0.0055, 0.1117, 0.1180, 0.1462, 0.0000, 0.0000, 0.0000, 0.0233, 0.2732,\n",
       "         0.0160, 0.0236, 0.0000, 0.0000, 0.0228, 0.1675, 0.3149, 0.0000, 0.1594,\n",
       "         0.0000, 0.1841, 0.0000, 0.1351, 0.1047, 0.1016, 0.1207, 0.0240, 0.1527,\n",
       "         0.0178, 0.0000, 0.0000, 0.1431, 0.3437, 0.2592, 0.0000, 0.0000, 0.0000,\n",
       "         0.0000, 0.0529, 0.0000, 0.0051, 0.0000, 0.0000, 0.0000, 0.3146, 0.1377,\n",
       "         0.0000, 0.1762, 0.0000, 0.3480, 0.0000, 0.0000, 0.0000, 0.2113, 0.0022,\n",
       "         0.0000, 0.0000, 0.1245, 0.0000, 0.0000, 0.0000, 0.0000, 0.0000, 0.0000,\n",
       "         0.1392, 0.0000, 0.2661, 0.0000, 0.0000, 0.0000, 0.0000, 0.0000, 0.0000,\n",
       "         0.0000, 0.0130, 0.0714, 0.1740, 0.0000, 0.0000, 0.0000, 0.0173, 0.0000,\n",
       "         0.1610, 0.0000]], device='cuda:0', grad_fn=<ReluBackward0>)"
      ]
     },
     "metadata": {},
     "output_type": "display_data"
    }
   ],
   "source": [
    "transfer_agent.model.value_layers[:-1](torch.tensor([obs], device='cuda').float())"
   ]
  },
  {
   "cell_type": "code",
   "execution_count": 63,
   "metadata": {},
   "outputs": [
    {
     "name": "stderr",
     "output_type": "stream",
     "text": [
      "e:\\projects\\continual_backprop\\rl_representation\\src\\agents\\dqn.py:111: UserWarning: To copy construct from a tensor, it is recommended to use sourceTensor.clone().detach() or sourceTensor.clone().detach().requires_grad_(True), rather than torch.tensor(sourceTensor).\n",
      "  batch_data = [torch.tensor(e, dtype=torch.float32, device=self.device) \\\n"
     ]
    },
    {
     "data": {
      "text/plain": [
       "tensor([6.5002e-03, 6.5002e-03, 1.7247e-03, 1.0616e-03, 8.9955e-03, 6.2190e-03,\n",
       "        4.4834e-03, 6.2189e-03, 2.8174e-02, 6.5002e-03, 6.2657e-03, 6.0987e-03,\n",
       "        6.5002e-03, 1.1178e-02, 6.2190e-03, 6.5002e-03, 1.0072e-02, 7.3109e-03,\n",
       "        6.2522e-03, 6.5002e-03, 4.3774e-02, 6.5002e-03, 6.5002e-03, 6.5002e-03,\n",
       "        6.5002e-03, 3.3885e-01, 6.5002e-03, 6.5002e-03, 6.5002e-03, 3.4057e-03,\n",
       "        6.5002e-03, 6.5002e-03, 1.3708e-03, 6.0987e-03, 1.0370e-02, 6.5002e-03,\n",
       "        6.5002e-03, 8.0011e-04, 1.0692e-02, 6.5002e-03, 7.3109e-03, 2.1784e-04,\n",
       "        3.0771e-02, 5.0356e-01, 6.5002e-03, 8.9077e-03, 6.5002e-03, 6.5002e-03,\n",
       "        4.2381e-03, 4.6205e-02, 6.5002e-03, 3.4494e-03, 6.5002e-03, 6.5002e-03,\n",
       "        6.6841e-02, 2.8750e-02, 6.5002e-03, 1.0072e-02, 4.4834e-03, 2.1395e-02,\n",
       "        6.5002e-03, 6.2096e-03, 8.9955e-03, 6.2190e-03, 6.2190e-03, 5.0356e-01,\n",
       "        3.4057e-03, 6.5002e-03, 6.2522e-03, 6.2190e-03, 6.2189e-03, 6.0987e-03,\n",
       "        6.5002e-03, 8.9077e-03, 6.2190e-03, 6.2657e-03, 1.2492e-02, 6.5002e-03,\n",
       "        4.4834e-03, 4.4834e-03, 1.0072e-02, 8.6872e-04, 4.8178e-01, 6.2189e-03,\n",
       "        1.3708e-03, 5.0356e-01, 5.6427e-03, 2.2359e-02, 5.3117e-05, 6.0987e-03,\n",
       "        6.5002e-03, 6.2189e-03, 6.0987e-03, 6.2657e-03, 7.3225e-03, 4.4834e-03,\n",
       "        8.9077e-03, 4.4834e-03, 6.7625e-04, 6.5002e-03, 4.8435e-01, 6.5002e-03,\n",
       "        6.5002e-03, 8.9955e-03, 4.8178e-01, 5.0356e-01, 4.4834e-03, 5.6427e-03,\n",
       "        1.0072e-02, 2.4530e-03, 1.0072e-02, 6.5002e-03, 6.2190e-03, 6.0987e-03,\n",
       "        3.8798e-02, 3.4057e-03, 6.5002e-03, 6.5002e-03, 5.3539e-08, 6.5002e-03,\n",
       "        6.2190e-03, 3.4494e-03, 1.9083e-02, 6.0987e-03, 4.4834e-03, 6.0987e-03,\n",
       "        6.5002e-03, 1.9969e-02], device='cuda:0', grad_fn=<PowBackward0>)"
      ]
     },
     "execution_count": 63,
     "metadata": {},
     "output_type": "execute_result"
    }
   ],
   "source": [
    "transfer_agent.calculate_losses()"
   ]
  },
  {
   "cell_type": "code",
   "execution_count": 55,
   "metadata": {},
   "outputs": [
    {
     "data": {
      "text/plain": [
       "torch.Size([128, 256])"
      ]
     },
     "execution_count": 55,
     "metadata": {},
     "output_type": "execute_result"
    }
   ],
   "source": [
    "a = list(transfer_agent.model.parameters())[2].grad\n",
    "a.shape"
   ]
  },
  {
   "cell_type": "code",
   "execution_count": 74,
   "metadata": {},
   "outputs": [
    {
     "name": "stdout",
     "output_type": "stream",
     "text": [
      "tensor([[-2.7559e-03, -4.7504e-03, -1.2179e-04, -3.0968e-03, -2.8429e-04,\n",
      "         -1.7875e-04, -1.6766e-03, -1.4572e-03, -7.1463e-04, -1.5418e-03,\n",
      "          0.0000e+00, -5.3354e-03,  5.3874e-04, -2.5993e-04, -1.0417e-03,\n",
      "         -8.3746e-04,  0.0000e+00, -6.4540e-03, -3.2519e-04,  0.0000e+00,\n",
      "          0.0000e+00, -5.8134e-04,  0.0000e+00, -3.6056e-03, -7.7094e-04,\n",
      "          0.0000e+00,  0.0000e+00,  0.0000e+00, -1.6574e-03, -4.0612e-04,\n",
      "          0.0000e+00, -9.3265e-03,  0.0000e+00, -2.7177e-03, -3.3994e-04,\n",
      "         -1.7064e-04, -9.2044e-03, -9.3307e-04,  0.0000e+00,  0.0000e+00,\n",
      "          5.4531e-04, -1.1952e-03,  0.0000e+00,  0.0000e+00, -1.4431e-03,\n",
      "         -6.4529e-03, -9.0573e-04, -1.2076e-03, -1.0193e-02,  0.0000e+00,\n",
      "          0.0000e+00,  0.0000e+00, -5.5482e-04,  5.2320e-04, -5.4833e-04,\n",
      "          2.1238e-05, -7.7945e-05,  0.0000e+00, -4.6862e-04, -1.0566e-02,\n",
      "          6.0719e-04,  0.0000e+00, -7.7247e-03, -1.1482e-03, -5.6607e-03,\n",
      "         -1.9900e-04, -4.1855e-03, -7.6511e-03, -5.3292e-03, -2.7413e-03,\n",
      "         -7.8280e-03, -7.5212e-03, -4.8418e-04, -3.3484e-03, -5.7023e-05,\n",
      "         -3.2501e-03,  6.5608e-04, -4.9924e-03, -1.4534e-04, -1.2839e-03,\n",
      "          0.0000e+00,  0.0000e+00, -2.1530e-03, -8.2395e-05, -4.7990e-05,\n",
      "          0.0000e+00, -1.4359e-04,  0.0000e+00, -1.7384e-03, -6.7059e-03,\n",
      "          0.0000e+00, -5.8744e-03,  0.0000e+00,  6.6176e-04, -6.0977e-03,\n",
      "          0.0000e+00, -3.1209e-03, -4.6497e-03, -6.3234e-03,  0.0000e+00,\n",
      "         -1.2586e-03, -2.0511e-03,  0.0000e+00, -1.7073e-04, -5.9414e-04,\n",
      "         -2.5065e-03, -3.6066e-03,  0.0000e+00,  5.0995e-04, -2.0375e-04,\n",
      "          5.3422e-04, -1.3961e-04, -1.5168e-04,  0.0000e+00, -1.1187e-04,\n",
      "          0.0000e+00,  0.0000e+00, -1.3262e-03, -1.2985e-04, -1.6986e-03,\n",
      "         -5.9644e-03,  0.0000e+00,  0.0000e+00,  0.0000e+00, -1.6286e-04,\n",
      "          0.0000e+00, -1.8844e-03, -4.0245e-03],\n",
      "        [ 1.5176e+00, -5.7498e-02, -2.9756e-02,  1.4357e+00,  3.1090e-01,\n",
      "         -1.1451e-02,  1.6758e-03,  2.0404e+00, -5.1561e-02,  2.1735e+00,\n",
      "          0.0000e+00,  1.0752e+00,  2.4342e+00, -2.2131e-02,  1.0493e+00,\n",
      "          1.0524e+00,  0.0000e+00,  1.0333e+00,  1.0889e+00,  0.0000e+00,\n",
      "          0.0000e+00,  7.5659e-01,  0.0000e+00, -1.4134e-03,  2.3196e+00,\n",
      "          0.0000e+00,  0.0000e+00,  0.0000e+00, -1.0058e-01,  2.8070e-02,\n",
      "         -4.1962e-02,  1.6036e+00,  0.0000e+00,  9.7568e-01,  8.4282e-03,\n",
      "         -2.5102e-02,  1.5007e+00,  9.5779e-01,  0.0000e+00, -6.0809e-02,\n",
      "          2.3901e+00,  1.7775e+00,  0.0000e+00,  0.0000e+00,  1.4824e+00,\n",
      "          1.1319e-01,  1.0433e+00,  1.0985e+00,  1.2494e+00,  0.0000e+00,\n",
      "          0.0000e+00,  0.0000e+00,  6.1812e-02,  2.3748e+00,  7.7963e-03,\n",
      "          1.5742e-01, -8.5113e-05,  0.0000e+00,  5.7273e-02,  1.4461e+00,\n",
      "          2.7370e+00,  0.0000e+00,  1.3680e+00, -1.0712e-01,  1.6438e+00,\n",
      "         -9.5378e-05,  1.2145e+00,  8.8814e-01,  1.0853e+00,  1.0991e+00,\n",
      "          2.2751e-01,  1.3007e+00,  3.6735e-03, -1.2532e-03, -2.5828e-02,\n",
      "          1.2753e+00,  2.9883e+00,  2.4150e+00, -2.4858e-02, -1.0395e-01,\n",
      "          0.0000e+00,  0.0000e+00,  5.8512e-01, -8.2302e-05, -5.3721e-02,\n",
      "          0.0000e+00, -2.3863e-02,  0.0000e+00,  2.7347e+00,  1.1424e+00,\n",
      "          0.0000e+00,  1.5824e+00,  0.0000e+00,  3.0255e+00, -7.0092e-02,\n",
      "         -4.8563e-02, -1.2162e-03,  1.9884e+00,  7.2429e-02,  0.0000e+00,\n",
      "         -2.9864e-02,  9.8172e-01,  0.0000e+00, -3.0450e-02, -5.5891e-02,\n",
      "         -9.7561e-04, -3.5961e-02,  0.0000e+00,  1.1116e+00, -9.3267e-05,\n",
      "          2.3114e+00, -2.4682e-02, -2.7530e-02,  0.0000e+00, -2.6422e-02,\n",
      "          0.0000e+00,  0.0000e+00, -9.6097e-02, -5.8671e-03,  7.3631e-01,\n",
      "          1.5904e+00,  0.0000e+00,  0.0000e+00,  0.0000e+00,  7.0077e-02,\n",
      "          0.0000e+00,  1.4133e+00, -3.6151e-02],\n",
      "        [-1.3600e-01, -1.1862e-01, -6.4283e-04, -1.2728e-01,  8.0665e-03,\n",
      "         -5.5199e-03, -6.2338e-02, -1.2936e-01, -6.4269e-03, -1.9111e-01,\n",
      "          0.0000e+00, -2.0802e-01, -1.2374e-01, -4.9523e-03, -1.0592e-01,\n",
      "         -1.0049e-01,  0.0000e+00, -2.3654e-01, -8.1050e-02,  0.0000e+00,\n",
      "          0.0000e+00, -7.7427e-02,  0.0000e+00, -1.1739e-01, -1.7182e-01,\n",
      "          0.0000e+00,  0.0000e+00,  0.0000e+00, -1.6311e-02,  7.1737e-03,\n",
      "          5.5820e-03, -3.5204e-01,  0.0000e+00, -1.2336e-01,  6.5145e-03,\n",
      "         -1.9562e-03, -3.4148e-01, -9.7386e-02,  0.0000e+00,  8.2355e-03,\n",
      "         -1.2122e-01, -1.5290e-01,  0.0000e+00,  0.0000e+00, -1.0133e-01,\n",
      "         -1.9755e-01, -1.0091e-01, -1.1465e-01, -3.3902e-01,  0.0000e+00,\n",
      "          0.0000e+00,  0.0000e+00,  9.2830e-03, -1.2129e-01,  1.0266e-02,\n",
      "          1.7491e-03, -5.0645e-03,  0.0000e+00,  9.5746e-03, -3.6270e-01,\n",
      "         -1.3983e-01,  0.0000e+00, -2.7952e-01,  1.9481e-03, -2.5368e-01,\n",
      "         -8.5122e-03, -1.8962e-01, -2.5029e-01, -2.6560e-01, -1.4649e-01,\n",
      "         -2.2947e-01, -2.6811e-01,  1.2962e-02, -1.0843e-01, -3.1815e-04,\n",
      "         -1.6540e-01, -1.5308e-01, -3.1220e-01, -1.5211e-03, -6.8731e-03,\n",
      "          0.0000e+00,  0.0000e+00, -1.1943e-01, -5.0654e-03,  1.3967e-02,\n",
      "          0.0000e+00, -1.5232e-03,  0.0000e+00, -1.9563e-01, -2.3031e-01,\n",
      "          0.0000e+00, -2.5805e-01,  0.0000e+00, -1.5524e-01, -1.4936e-01,\n",
      "          6.2430e-03, -1.0755e-01, -2.7787e-01, -1.8892e-01,  0.0000e+00,\n",
      "         -2.5837e-02, -8.3709e-02,  0.0000e+00, -1.8204e-03,  1.2115e-03,\n",
      "         -7.9144e-02, -9.0786e-02,  0.0000e+00, -2.3587e-02, -8.7087e-03,\n",
      "         -1.1697e-01, -1.4366e-03, -1.5620e-03,  0.0000e+00, -6.0074e-04,\n",
      "          0.0000e+00,  0.0000e+00, -9.7443e-03,  1.2288e-02, -1.1445e-01,\n",
      "         -2.6763e-01,  0.0000e+00,  0.0000e+00,  0.0000e+00,  5.5158e-03,\n",
      "          0.0000e+00, -1.3131e-01, -1.0354e-01],\n",
      "        [-4.3093e-03, -1.5042e-03,  0.0000e+00, -3.9462e-03, -5.5111e-04,\n",
      "          0.0000e+00, -2.0316e-03, -5.1225e-03,  0.0000e+00, -6.6312e-03,\n",
      "          0.0000e+00, -4.7262e-03, -5.6225e-03,  0.0000e+00, -3.8610e-03,\n",
      "         -3.7809e-03,  0.0000e+00, -5.0460e-03, -3.2654e-03,  0.0000e+00,\n",
      "          0.0000e+00, -2.8853e-03,  0.0000e+00, -2.4461e-03, -6.5877e-03,\n",
      "          0.0000e+00,  0.0000e+00,  0.0000e+00,  0.0000e+00, -1.2343e-04,\n",
      "          0.0000e+00, -7.6537e-03,  0.0000e+00, -3.3382e-03, -8.7594e-05,\n",
      "          0.0000e+00, -7.3197e-03, -3.5778e-03,  0.0000e+00,  0.0000e+00,\n",
      "         -5.4933e-03, -5.3622e-03,  0.0000e+00,  0.0000e+00, -3.7983e-03,\n",
      "         -3.0113e-03, -3.7402e-03, -3.8839e-03, -6.7335e-03,  0.0000e+00,\n",
      "          0.0000e+00,  0.0000e+00, -1.9846e-04, -5.4891e-03, -1.3125e-04,\n",
      "         -2.6951e-04,  0.0000e+00,  0.0000e+00, -1.8887e-04, -7.4173e-03,\n",
      "         -6.3192e-03,  0.0000e+00, -6.1353e-03,  0.0000e+00, -6.3748e-03,\n",
      "          0.0000e+00, -4.7557e-03, -4.9002e-03, -6.2805e-03, -3.9868e-03,\n",
      "         -3.5551e-03, -5.8467e-03, -1.4567e-04, -2.2068e-03,  0.0000e+00,\n",
      "         -4.5144e-03, -6.9109e-03, -8.7895e-03,  0.0000e+00,  0.0000e+00,\n",
      "          0.0000e+00,  0.0000e+00, -3.6692e-03,  0.0000e+00, -4.1731e-05,\n",
      "          0.0000e+00,  0.0000e+00,  0.0000e+00, -7.3828e-03, -5.0046e-03,\n",
      "          0.0000e+00, -6.3430e-03,  0.0000e+00, -7.0007e-03, -1.8875e-03,\n",
      "          0.0000e+00, -2.0183e-03, -7.5744e-03, -2.8013e-03,  0.0000e+00,\n",
      "         -8.1672e-05, -2.6414e-03,  0.0000e+00,  0.0000e+00,  0.0000e+00,\n",
      "         -1.7806e-03, -1.1258e-03,  0.0000e+00, -1.9207e-03,  0.0000e+00,\n",
      "         -5.3011e-03,  0.0000e+00,  0.0000e+00,  0.0000e+00,  0.0000e+00,\n",
      "          0.0000e+00,  0.0000e+00,  0.0000e+00, -1.0648e-04, -3.8206e-03,\n",
      "         -6.5384e-03,  0.0000e+00,  0.0000e+00,  0.0000e+00, -1.4162e-04,\n",
      "          0.0000e+00, -4.2533e-03, -1.3388e-03],\n",
      "        [ 1.6128e-03, -2.3805e-03,  0.0000e+00,  1.8902e-03,  4.1145e-04,\n",
      "          0.0000e+00, -3.1210e-03,  2.6880e-03,  2.4001e-05,  1.0075e-03,\n",
      "          0.0000e+00, -7.8233e-04,  3.2411e-03,  0.0000e+00, -2.9288e-04,\n",
      "         -1.8730e-04,  0.0000e+00, -1.2448e-03,  5.6670e-04,  0.0000e+00,\n",
      "          0.0000e+00, -3.3234e-04,  0.0000e+00, -3.9514e-03,  1.6490e-03,\n",
      "          0.0000e+00,  0.0000e+00,  0.0000e+00,  5.4303e-05,  6.8490e-05,\n",
      "          2.2544e-05, -1.8214e-03,  0.0000e+00,  3.2624e-04,  5.5836e-05,\n",
      "          0.0000e+00, -1.8404e-03, -3.3102e-04,  0.0000e+00,  3.3252e-05,\n",
      "          3.2115e-03,  8.9721e-04,  0.0000e+00,  0.0000e+00,  1.9301e-03,\n",
      "         -2.7453e-03, -1.7587e-04, -1.1870e-04, -1.9165e-03,  0.0000e+00,\n",
      "          0.0000e+00,  0.0000e+00,  8.9870e-05,  3.1556e-03,  8.6521e-05,\n",
      "          2.2685e-04,  0.0000e+00,  0.0000e+00,  9.2635e-05, -1.9195e-03,\n",
      "          3.6439e-03,  0.0000e+00, -9.4010e-04,  6.0683e-05, -4.3773e-04,\n",
      "          0.0000e+00, -4.0162e-04, -1.4435e-03, -2.9761e-03, -1.1382e-04,\n",
      "         -2.6701e-03, -8.6643e-04,  1.0008e-04, -3.9357e-03,  0.0000e+00,\n",
      "          8.0208e-05,  3.9651e-03, -5.0356e-04,  0.0000e+00,  5.6716e-05,\n",
      "          0.0000e+00,  0.0000e+00, -1.9414e-03,  0.0000e+00,  6.7903e-05,\n",
      "          0.0000e+00,  0.0000e+00,  0.0000e+00,  2.6497e-03, -5.0736e-04,\n",
      "          0.0000e+00, -6.5644e-04,  0.0000e+00,  4.0091e-03, -2.2633e-03,\n",
      "          2.5206e-05, -3.7992e-03, -8.1476e-04, -2.6417e-03,  0.0000e+00,\n",
      "         -3.2471e-04,  1.3717e-03,  0.0000e+00,  0.0000e+00,  3.1750e-05,\n",
      "         -2.8672e-03, -1.9381e-03,  0.0000e+00,  1.9304e-03,  0.0000e+00,\n",
      "          3.1185e-03,  0.0000e+00,  0.0000e+00,  0.0000e+00,  0.0000e+00,\n",
      "          0.0000e+00,  0.0000e+00,  5.1806e-05,  8.0137e-05, -1.5103e-03,\n",
      "         -9.2450e-04,  0.0000e+00,  0.0000e+00,  0.0000e+00,  6.0275e-05,\n",
      "          0.0000e+00,  8.9394e-04, -2.2145e-03],\n",
      "        [ 3.7303e-03, -6.9657e-03, -6.2276e-06,  2.7752e-03,  1.5374e-03,\n",
      "         -4.8749e-04, -2.3443e-04,  8.1017e-03, -1.0876e-03,  9.1285e-03,\n",
      "          0.0000e+00, -1.8050e-03,  1.2461e-02, -4.0984e-04,  5.1621e-03,\n",
      "          5.3096e-03,  0.0000e+00, -3.5241e-03,  5.5583e-03,  0.0000e+00,\n",
      "          0.0000e+00,  3.9518e-03,  0.0000e+00, -3.8331e-03,  1.1014e-02,\n",
      "          0.0000e+00,  0.0000e+00,  0.0000e+00, -2.6094e-03,  2.8513e-04,\n",
      "          0.0000e+00, -4.5135e-03,  0.0000e+00,  1.1842e-03,  1.9867e-04,\n",
      "         -1.5348e-04, -4.8735e-03,  4.7654e-03,  0.0000e+00,  0.0000e+00,\n",
      "          1.2231e-02,  7.5332e-03,  0.0000e+00,  0.0000e+00,  5.3472e-03,\n",
      "         -8.0544e-03,  5.1868e-03,  4.8681e-03, -7.5648e-03,  0.0000e+00,\n",
      "          0.0000e+00,  0.0000e+00,  4.0572e-04,  1.2157e-02,  2.7593e-04,\n",
      "          8.2487e-04, -5.2539e-04,  0.0000e+00,  5.1007e-04, -7.0669e-03,\n",
      "          1.4010e-02,  0.0000e+00, -3.6286e-03, -1.2809e-03,  6.3612e-04,\n",
      "         -7.8229e-04,  4.7875e-04, -5.9362e-03, -9.8575e-04,  1.8685e-03,\n",
      "         -9.4145e-03, -3.7040e-03,  3.7102e-04, -4.0614e-03,  0.0000e+00,\n",
      "          2.0339e-03,  1.5297e-02,  5.6915e-03, -1.1136e-04, -1.8437e-03,\n",
      "          0.0000e+00,  0.0000e+00,  2.4443e-03, -5.1866e-04,  1.0629e-04,\n",
      "          0.0000e+00, -1.1266e-04,  0.0000e+00,  1.1325e-02, -3.4380e-03,\n",
      "          0.0000e+00,  5.2060e-05,  0.0000e+00,  1.5488e-02, -8.4596e-03,\n",
      "          0.0000e+00, -4.6734e-03,  4.0206e-03, -8.1013e-03,  0.0000e+00,\n",
      "         -2.2872e-03,  1.9778e-03,  0.0000e+00, -1.3623e-04, -6.5026e-04,\n",
      "         -2.2674e-03, -5.4419e-03,  0.0000e+00,  5.6131e-03, -8.0206e-04,\n",
      "          1.1827e-02, -1.0381e-04, -1.1329e-04,  0.0000e+00, -6.7920e-06,\n",
      "          0.0000e+00,  0.0000e+00, -1.9830e-03,  2.7120e-04,  3.4777e-03,\n",
      "          1.2552e-05,  0.0000e+00,  0.0000e+00,  0.0000e+00,  3.6071e-04,\n",
      "          0.0000e+00,  4.5415e-03, -5.9355e-03],\n",
      "        [-1.2007e-03, -1.0195e-03,  0.0000e+00, -1.0223e-03,  5.5177e-05,\n",
      "          0.0000e+00, -1.3858e-03, -1.1764e-03,  0.0000e+00, -2.0986e-03,\n",
      "          0.0000e+00, -2.0097e-03, -1.0894e-03,  0.0000e+00, -1.4060e-03,\n",
      "         -1.3393e-03,  0.0000e+00, -2.2713e-03, -9.7882e-04,  0.0000e+00,\n",
      "          0.0000e+00, -1.0813e-03,  0.0000e+00, -1.6546e-03, -1.8990e-03,\n",
      "          0.0000e+00,  0.0000e+00,  0.0000e+00, -5.5614e-05, -2.8689e-05,\n",
      "          0.0000e+00, -3.4120e-03,  0.0000e+00, -1.1714e-03, -2.8717e-05,\n",
      "          0.0000e+00, -3.2971e-03, -1.3154e-03,  0.0000e+00,  0.0000e+00,\n",
      "         -1.0476e-03, -1.6755e-03,  0.0000e+00,  0.0000e+00, -9.0074e-04,\n",
      "         -1.9284e-03, -1.3307e-03, -1.4020e-03, -3.1501e-03,  0.0000e+00,\n",
      "          0.0000e+00,  0.0000e+00, -3.9453e-05, -1.0635e-03, -4.6486e-05,\n",
      "          3.5166e-05,  0.0000e+00,  0.0000e+00, -3.7171e-05, -3.3999e-03,\n",
      "         -1.2195e-03,  0.0000e+00, -2.6205e-03, -6.7066e-05, -2.5069e-03,\n",
      "          0.0000e+00, -1.8867e-03, -2.3127e-03, -3.0765e-03, -1.5002e-03,\n",
      "         -2.1485e-03, -2.4962e-03, -5.6498e-05, -1.3871e-03,  0.0000e+00,\n",
      "         -1.6543e-03, -1.3393e-03, -3.3286e-03,  0.0000e+00, -5.3447e-05,\n",
      "          0.0000e+00,  0.0000e+00, -1.8496e-03,  0.0000e+00, -6.3640e-05,\n",
      "          0.0000e+00,  0.0000e+00,  0.0000e+00, -1.9736e-03, -2.0908e-03,\n",
      "          0.0000e+00, -2.5559e-03,  0.0000e+00, -1.3582e-03, -1.3207e-03,\n",
      "          0.0000e+00, -1.1406e-03, -2.9719e-03, -1.8267e-03,  0.0000e+00,\n",
      "         -1.9335e-05, -6.5816e-04,  0.0000e+00,  0.0000e+00, -3.5582e-05,\n",
      "         -1.2051e-03, -7.4696e-04,  0.0000e+00,  3.5958e-05,  0.0000e+00,\n",
      "         -1.0045e-03,  0.0000e+00,  0.0000e+00,  0.0000e+00,  0.0000e+00,\n",
      "          0.0000e+00,  0.0000e+00, -4.6551e-05, -4.9741e-05, -1.7662e-03,\n",
      "         -2.6903e-03,  0.0000e+00,  0.0000e+00,  0.0000e+00, -1.0139e-05,\n",
      "          0.0000e+00, -1.3203e-03, -9.0132e-04]], device='cuda:0')\n",
      "tensor([[0., 0., 0.,  ..., 0., 0., 0.],\n",
      "        [0., 0., 0.,  ..., 0., 0., 0.],\n",
      "        [0., 0., 0.,  ..., 0., 0., 0.],\n",
      "        ...,\n",
      "        [0., 0., 0.,  ..., 0., 0., 0.],\n",
      "        [0., 0., 0.,  ..., 0., 0., 0.],\n",
      "        [0., 0., 0.,  ..., 0., 0., 0.]], device='cuda:0')\n",
      "tensor(-598.8912, device='cuda:0')\n"
     ]
    }
   ],
   "source": [
    "print(list(transfer_agent.model.parameters())[-2].grad)\n",
    "print(next(transfer_agent.model.parameters()).grad)\n",
    "print(next(transfer_agent.model.parameters()).grad.sum())"
   ]
  },
  {
   "cell_type": "code",
   "execution_count": 31,
   "metadata": {},
   "outputs": [
    {
     "ename": "KeyboardInterrupt",
     "evalue": "",
     "output_type": "error",
     "traceback": [
      "\u001b[1;31m---------------------------------------------------------------------------\u001b[0m",
      "\u001b[1;31mKeyboardInterrupt\u001b[0m                         Traceback (most recent call last)",
      "\u001b[1;32m<ipython-input-31-983bb9002cab>\u001b[0m in \u001b[0;36m<module>\u001b[1;34m\u001b[0m\n\u001b[1;32m----> 1\u001b[1;33m \u001b[0msum\u001b[0m\u001b[1;33m(\u001b[0m\u001b[1;33m(\u001b[0m\u001b[0mnext\u001b[0m\u001b[1;33m(\u001b[0m\u001b[0mtransfer_agent\u001b[0m\u001b[1;33m.\u001b[0m\u001b[0mmodel\u001b[0m\u001b[1;33m.\u001b[0m\u001b[0mparameters\u001b[0m\u001b[1;33m(\u001b[0m\u001b[1;33m)\u001b[0m\u001b[1;33m)\u001b[0m\u001b[1;33m.\u001b[0m\u001b[0mgrad\u001b[0m \u001b[1;33m!=\u001b[0m \u001b[1;36m0\u001b[0m\u001b[1;33m)\u001b[0m\u001b[1;33m.\u001b[0m\u001b[0mview\u001b[0m\u001b[1;33m(\u001b[0m\u001b[1;33m-\u001b[0m\u001b[1;36m1\u001b[0m\u001b[1;33m)\u001b[0m\u001b[1;33m)\u001b[0m\u001b[1;33m\u001b[0m\u001b[1;33m\u001b[0m\u001b[0m\n\u001b[0m",
      "\u001b[1;32m~\\.conda\\envs\\ml2\\lib\\site-packages\\torch\\_tensor.py\u001b[0m in \u001b[0;36m__iter__\u001b[1;34m(self)\u001b[0m\n\u001b[0;32m    611\u001b[0m                           \u001b[1;34m'iterations executed (and might lead to errors or silently give '\u001b[0m\u001b[1;33m\u001b[0m\u001b[1;33m\u001b[0m\u001b[0m\n\u001b[0;32m    612\u001b[0m                           'incorrect results).', category=torch.jit.TracerWarning, stacklevel=2)\n\u001b[1;32m--> 613\u001b[1;33m         \u001b[1;32mreturn\u001b[0m \u001b[0miter\u001b[0m\u001b[1;33m(\u001b[0m\u001b[0mself\u001b[0m\u001b[1;33m.\u001b[0m\u001b[0munbind\u001b[0m\u001b[1;33m(\u001b[0m\u001b[1;36m0\u001b[0m\u001b[1;33m)\u001b[0m\u001b[1;33m)\u001b[0m\u001b[1;33m\u001b[0m\u001b[1;33m\u001b[0m\u001b[0m\n\u001b[0m\u001b[0;32m    614\u001b[0m \u001b[1;33m\u001b[0m\u001b[0m\n\u001b[0;32m    615\u001b[0m     \u001b[1;32mdef\u001b[0m \u001b[0m__hash__\u001b[0m\u001b[1;33m(\u001b[0m\u001b[0mself\u001b[0m\u001b[1;33m)\u001b[0m\u001b[1;33m:\u001b[0m\u001b[1;33m\u001b[0m\u001b[1;33m\u001b[0m\u001b[0m\n",
      "\u001b[1;31mKeyboardInterrupt\u001b[0m: "
     ]
    }
   ],
   "source": [
    "sum((next(transfer_agent.model.parameters()).grad != 0).view(-1))"
   ]
  },
  {
   "cell_type": "code",
   "execution_count": null,
   "metadata": {},
   "outputs": [],
   "source": [
    "transfer_agent.calculate_losses"
   ]
  },
  {
   "cell_type": "code",
   "execution_count": 32,
   "metadata": {},
   "outputs": [
    {
     "data": {
      "text/plain": [
       "False"
      ]
     },
     "execution_count": 32,
     "metadata": {},
     "output_type": "execute_result"
    }
   ],
   "source": [
    "transfer_agent.model.value_layers[0][1].weight.requires_grad"
   ]
  },
  {
   "cell_type": "code",
   "execution_count": 35,
   "metadata": {},
   "outputs": [
    {
     "data": {
      "text/plain": [
       "True"
      ]
     },
     "execution_count": 35,
     "metadata": {},
     "output_type": "execute_result"
    }
   ],
   "source": [
    "agent.model.value_layers[0][1].weight.requires_grad"
   ]
  }
 ],
 "metadata": {
  "interpreter": {
   "hash": "6717cf457fe527f2ad07ab71b4770f157b357bf37d07e7427487ba89b10c0212"
  },
  "kernelspec": {
   "display_name": "Python 3.9.7 ('ml2')",
   "language": "python",
   "name": "python3"
  },
  "language_info": {
   "codemirror_mode": {
    "name": "ipython",
    "version": 3
   },
   "file_extension": ".py",
   "mimetype": "text/x-python",
   "name": "python",
   "nbconvert_exporter": "python",
   "pygments_lexer": "ipython3",
   "version": "3.9.7"
  },
  "orig_nbformat": 4
 },
 "nbformat": 4,
 "nbformat_minor": 2
}
