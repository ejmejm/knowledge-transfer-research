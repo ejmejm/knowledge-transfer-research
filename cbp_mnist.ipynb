{
 "cells": [
  {
   "cell_type": "code",
   "execution_count": 2,
   "metadata": {},
   "outputs": [],
   "source": [
    "import copy\n",
    "\n",
    "import matplotlib.pyplot as plt\n",
    "import numpy as np\n",
    "import torch\n",
    "from torch import nn\n",
    "from torch.nn import init\n",
    "import torchvision\n",
    "from tqdm import tqdm\n",
    "\n",
    "%matplotlib inline"
   ]
  },
  {
   "cell_type": "code",
   "execution_count": 3,
   "metadata": {},
   "outputs": [
    {
     "name": "stderr",
     "output_type": "stream",
     "text": [
      "C:\\Users\\ninja\\.conda\\envs\\ml2\\lib\\site-packages\\torchvision\\datasets\\mnist.py:498: UserWarning: The given NumPy array is not writeable, and PyTorch does not support non-writeable tensors. This means you can write to the underlying (supposedly non-writeable) NumPy array using the tensor. You may want to copy the array to protect its data or make it writeable before converting it to a tensor. This type of warning will be suppressed for the rest of this program. (Triggered internally at  ..\\torch\\csrc\\utils\\tensor_numpy.cpp:180.)\n",
      "  return torch.from_numpy(parsed.astype(m[2], copy=False)).view(*s)\n"
     ]
    }
   ],
   "source": [
    "img_transform = torchvision.transforms.Compose([\n",
    "    torchvision.transforms.ToTensor(),\n",
    "    lambda x: x.view(-1)\n",
    "])\n",
    "\n",
    "# Download and load MNIST dataset\n",
    "dataset = torchvision.datasets.MNIST(\n",
    "    root='./data',\n",
    "    train=True,\n",
    "    download=True,\n",
    "    transform=img_transform)"
   ]
  },
  {
   "cell_type": "code",
   "execution_count": 4,
   "metadata": {},
   "outputs": [],
   "source": [
    "# Function for creating a new transform that permutes `n_permute` pixels\n",
    "def create_new_permutation(n_input, n_permute):\n",
    "    old_indices = torch.randperm(n_input)[:n_permute]\n",
    "    new_indices = old_indices[torch.randperm(n_permute)]\n",
    "    def new_transform(x):\n",
    "        if len(x.shape) > 1:\n",
    "            return torch.stack([new_transform(sample) for sample in x], dim=0)\n",
    "        x[new_indices] = copy.deepcopy(x)[old_indices]\n",
    "        return x\n",
    "    return new_transform\n",
    "\n",
    "# Reinits weights and biases using the same calculations as PyTorch for linear layers\n",
    "# Reference: https://github.com/pytorch/pytorch/blob/master/torch/nn/modules/linear.py#L92\n",
    "def reinit_hidden_units(layer, next_layer, idxs):\n",
    "    # Reinit weights before the hidden units\n",
    "    placeholder = torch.empty_like(layer.weight)\n",
    "    init.kaiming_uniform_(placeholder, a=np.sqrt(5))\n",
    "    with torch.no_grad():\n",
    "        layer.weight[idxs] = placeholder[idxs]\n",
    "\n",
    "    # Reinit weights after the hidden units\n",
    "    placeholder = torch.empty_like(next_layer.weight)\n",
    "    init.kaiming_uniform_(placeholder, a=np.sqrt(5))\n",
    "    with torch.no_grad():\n",
    "        next_layer.weight[:, idxs] = placeholder[:, idxs]\n",
    "\n",
    "    # Reinit biases\n",
    "    placeholder = torch.empty_like(layer.bias)\n",
    "    fan_in, _ = init._calculate_fan_in_and_fan_out(layer.weight)\n",
    "    bound = 1 / np.sqrt(fan_in) if fan_in > 0 else 0\n",
    "    init.uniform_(placeholder, -bound, bound)\n",
    "    with torch.no_grad():\n",
    "        layer.bias[idxs] = placeholder[idxs]"
   ]
  },
  {
   "cell_type": "code",
   "execution_count": 5,
   "metadata": {},
   "outputs": [],
   "source": [
    "class CBPWrapper():\n",
    "    def __init__(self, model, maturity_thresh=100, replacement_rate=1e-4, decay_rate=0.99):\n",
    "        self._model = model\n",
    "        self.maturity_thresh = maturity_thresh # m\n",
    "        self.replacement_rate = replacement_rate # p\n",
    "        self.decay_rate = decay_rate # eta\n",
    "\n",
    "        # One entry per set of weights\n",
    "        self.layer_weights = [layer.state_dict().get('weight') \\\n",
    "            for layer in self._model.layers \\\n",
    "            if layer.state_dict().get('weight') is not None]\n",
    "        self.param_layers = [layer for layer in self._model.layers \\\n",
    "            if layer.state_dict().get('weight') is not None]\n",
    "        \n",
    "        # One entry per set of hidden units\n",
    "        self.layer_ages = [torch.zeros(weights.shape[0]) for weights in self.layer_weights[:-1]] # a\n",
    "        self.layer_avg_vals = [torch.zeros(weights.shape[0]) for weights in self.layer_weights[:-1]] # f\n",
    "        self.layer_utils = [torch.zeros(weights.shape[0]) for weights in self.layer_weights[:-1]] # u\n",
    "        self.layer_sizes = np.array([weights.shape[0] for weights in self.layer_weights[:-1]])\n",
    "        self.replacement_counts = np.zeros(len(self.layer_weights)-1, dtype=np.float32) # How many neurons are pending replacement per layer\n",
    "\n",
    "    def forward(self, x):\n",
    "        outputs = self.full_forward(x)\n",
    "        node_reset = self._cbp_update(outputs)\n",
    "        return outputs[-1], node_reset\n",
    "\n",
    "    def full_forward(self, x):\n",
    "        outputs = [x]\n",
    "        for layer in self._model.layers:\n",
    "            x = layer(x)\n",
    "            if hasattr(layer, 'weight'):\n",
    "                outputs.append(x)\n",
    "            else:\n",
    "                outputs[-1] = x\n",
    "        return outputs[1:]\n",
    "\n",
    "    __call__ = forward\n",
    "\n",
    "    def __getattr__(self, name):\n",
    "        return getattr(self._model, name)\n",
    "\n",
    "    def _cbp_update(self, layer_outputs):\n",
    "        self._increment_weight_ages()\n",
    "        self._increment_replacement_counts()\n",
    "        node_reset = False\n",
    "        for i, output in enumerate(layer_outputs[:-1]):\n",
    "            weighted_avgs = self.layer_avg_vals[i] / (1 - self.decay_rate ** self.layer_ages[i])\n",
    "            # Update average hidden outputs (f)\n",
    "            self.layer_avg_vals[i] = (1 - self.decay_rate) * output.mean(dim=0) + self.decay_rate * self.layer_avg_vals[i]\n",
    "\n",
    "            weighted_utils = self.layer_utils[i] / (1 - self.decay_rate ** self.layer_ages[i])\n",
    "            new_util_target = \\\n",
    "                torch.abs(output.mean(dim=0) - weighted_avgs) \\\n",
    "                * self.layer_weights[i+1].T.abs().sum(1) \\\n",
    "                / self.layer_weights[i].T.abs().sum(0)\n",
    "            self.layer_utils[i] = (1 - self.decay_rate) * new_util_target + self.decay_rate * self.layer_utils[i]\n",
    "\n",
    "            if self.replacement_counts[i] >= 1:\n",
    "                ineligible_features_idxs = self.layer_ages[i] < self.maturity_thresh\n",
    "                weighted_utils[ineligible_features_idxs] = float('inf')\n",
    "                reset_idxs = torch.topk(weighted_utils, k=int(self.replacement_counts[i]), largest=False)[1]\n",
    "                # print(f'Resetting units {reset_idxs} of layer {i}')\n",
    "                reinit_hidden_units(self.param_layers[i], self.param_layers[i+1], reset_idxs)\n",
    "                self.layer_ages[i][reset_idxs] = 0\n",
    "                self.layer_avg_vals[i][reset_idxs] = 0\n",
    "                self.layer_utils[i][reset_idxs] = 0\n",
    "                self.replacement_counts[i] = 0\n",
    "\n",
    "                node_reset = True\n",
    "        return node_reset\n",
    "\n",
    "    def _increment_weight_ages(self):\n",
    "        for i in range(len(self.layer_ages)):\n",
    "            self.layer_ages[i] += 1\n",
    "\n",
    "    def _increment_replacement_counts(self):\n",
    "        self.replacement_counts += self.replacement_rate * self.layer_sizes\n",
    "\n",
    "# Create a simple feed-forward network for MNIST classification\n",
    "class DenseModel(nn.Module):\n",
    "    def __init__(self, n_input, n_output):\n",
    "        super().__init__()\n",
    "        self.n_hidden = 128\n",
    "        self.layers = nn.Sequential(\n",
    "            nn.Linear(n_input, self.n_hidden),\n",
    "            nn.ReLU(),\n",
    "            nn.Linear(self.n_hidden, self.n_hidden),\n",
    "            nn.ReLU(),\n",
    "            nn.Linear(self.n_hidden, n_output))\n",
    "\n",
    "    def forward(self, x):\n",
    "        return self.layers(x)\n",
    "\n",
    "    def probs(self, x):\n",
    "        return torch.softmax(self(x), dim=1)"
   ]
  },
  {
   "cell_type": "code",
   "execution_count": 6,
   "metadata": {},
   "outputs": [],
   "source": [
    "data_dim = 28 * 28\n",
    "n_classes = 10"
   ]
  },
  {
   "cell_type": "code",
   "execution_count": 7,
   "metadata": {},
   "outputs": [],
   "source": [
    "def train_model(model, optimizer, dataloader, train_samples=int(1e5),\n",
    "                n_permute=0, change_permute_freq=10000, batch_size=16):\n",
    "    criterion = nn.CrossEntropyLoss()\n",
    "    permute_transform = create_new_permutation(data_dim, n_permute)\n",
    "\n",
    "    global acc_hist, loss_hist\n",
    "    acc_hist, loss_hist = [], []\n",
    "    data_iter = iter(dataloader)\n",
    "    for step_idx in tqdm(range(1, train_samples // batch_size + 1)):\n",
    "        try:\n",
    "            x, y = next(data_iter)\n",
    "        except StopIteration:\n",
    "            data_iter = iter(dataloader)\n",
    "            x, y = next(data_iter)\n",
    "        x = permute_transform(x)\n",
    "        \n",
    "        y = torch.tensor(y)\n",
    "        output = model(x)\n",
    "        if isinstance(output, tuple):\n",
    "            logits, node_reset = output\n",
    "        else:\n",
    "            logits = output\n",
    "            node_reset = False\n",
    "        pred_y = torch.argmax(logits, dim=1)\n",
    "        loss = criterion(logits, y)\n",
    "\n",
    "        if not node_reset:\n",
    "            optimizer.zero_grad()\n",
    "            loss.backward()\n",
    "            optimizer.step()\n",
    "        \n",
    "        loss_hist.append(loss.item())\n",
    "        acc_hist.append(torch.sum(pred_y == y).item() / len(y))\n",
    "\n",
    "        if step_idx * batch_size % change_permute_freq == 0:\n",
    "            permute_transform = create_new_permutation(data_dim, n_permute)\n",
    "\n",
    "    return acc_hist, loss_hist"
   ]
  },
  {
   "cell_type": "markdown",
   "metadata": {},
   "source": [
    "# Run basic model training on MNIST"
   ]
  },
  {
   "cell_type": "code",
   "execution_count": 30,
   "metadata": {},
   "outputs": [
    {
     "name": "stderr",
     "output_type": "stream",
     "text": [
      "  0%|          | 0/10000000 [00:00<?, ?it/s]<ipython-input-14-b09c9306e11a>:17: UserWarning: To copy construct from a tensor, it is recommended to use sourceTensor.clone().detach() or sourceTensor.clone().detach().requires_grad_(True), rather than torch.tensor(sourceTensor).\n",
      "  y = torch.tensor(y)\n",
      "100%|██████████| 10000000/10000000 [3:03:47<00:00, 906.84it/s]  \n"
     ]
    }
   ],
   "source": [
    "lr = 0.001\n",
    "\n",
    "batch_size = 1\n",
    "n_permute = 600\n",
    "change_permute_freq = 10000 // batch_size * batch_size\n",
    "train_samples = int(1e7) # int(5e7)\n",
    "\n",
    "model = DenseModel(data_dim, n_classes)\n",
    "optimizer = torch.optim.SGD(model.parameters(), lr=lr)\n",
    "# Create a simple dataloader for the MNIST dataset that loops on completion\n",
    "dataloader = torch.utils.data.DataLoader(\n",
    "    dataset,\n",
    "    batch_size=batch_size,\n",
    "    shuffle=True,\n",
    "    num_workers=0)\n",
    "\n",
    "baseline_acc_hist, baseline_loss_hist = train_model(\n",
    "    model, optimizer, dataloader,\n",
    "    train_samples = train_samples,\n",
    "    n_permute = n_permute,\n",
    "    change_permute_freq = change_permute_freq,\n",
    "    batch_size = batch_size)"
   ]
  },
  {
   "cell_type": "code",
   "execution_count": 33,
   "metadata": {},
   "outputs": [
    {
     "data": {
      "image/png": "[encoded data removed]",
      "text/plain": [
       "<Figure size 432x288 with 1 Axes>"
      ]
     },
     "metadata": {
      "needs_background": "light"
     },
     "output_type": "display_data"
    },
    {
     "data": {
      "image/png": "[encoded data removed]",
      "text/plain": [
       "<Figure size 432x288 with 1 Axes>"
      ]
     },
     "metadata": {
      "needs_background": "light"
     },
     "output_type": "display_data"
    }
   ],
   "source": [
    "# Plot the moving average of loss and accuracy\n",
    "# Source: https://stackoverflow.com/questions/14313510/how-to-calculate-rolling-moving-average-using-python-numpy-scipy\n",
    "def moving_average(a, n=3):\n",
    "    ret = np.cumsum(a, dtype=float)\n",
    "    ret[n:] = ret[n:] - ret[:-n]\n",
    "    return ret[n - 1:] / n\n",
    "\n",
    "avg_len = 1000000\n",
    "\n",
    "plt.title('Loss')\n",
    "ys = moving_average(baseline_loss_hist, avg_len)\n",
    "xs = np.arange(len(ys)) / len(ys) * len(baseline_loss_hist) * batch_size\n",
    "plt.plot(xs, ys)\n",
    "plt.show()\n",
    "\n",
    "plt.title('Accuracy')\n",
    "ys = moving_average(baseline_acc_hist, avg_len)\n",
    "xs = np.arange(len(ys)) / len(ys) * len(baseline_acc_hist) * batch_size\n",
    "plt.plot(xs, ys)\n",
    "plt.show()"
   ]
  },
  {
   "cell_type": "code",
   "execution_count": 9,
   "metadata": {},
   "outputs": [
    {
     "name": "stderr",
     "output_type": "stream",
     "text": [
      "  0%|          | 0/3125000 [00:00<?, ?it/s]<ipython-input-7-b09c9306e11a>:17: UserWarning: To copy construct from a tensor, it is recommended to use sourceTensor.clone().detach() or sourceTensor.clone().detach().requires_grad_(True), rather than torch.tensor(sourceTensor).\n",
      "  y = torch.tensor(y)\n",
      "  0%|          | 4524/3125000 [00:23<4:46:06, 181.78it/s]"
     ]
    }
   ],
   "source": [
    "lr = 0.001\n",
    "\n",
    "batch_size = 16\n",
    "n_permute = 600\n",
    "change_permute_freq = 400000 // batch_size * batch_size\n",
    "train_samples = int(5e7) # int(5e7)\n",
    "\n",
    "model = CBPWrapper(DenseModel(data_dim, n_classes))\n",
    "optimizer = torch.optim.SGD(model.parameters(), lr=lr)\n",
    "# Create a simple dataloader for the MNIST dataset that loops on completion\n",
    "dataloader = torch.utils.data.DataLoader(\n",
    "    dataset,\n",
    "    batch_size=batch_size,\n",
    "    shuffle=True,\n",
    "    num_workers=0)\n",
    "\n",
    "cbp_acc_hist, cbp_loss_hist = train_model(\n",
    "    model, optimizer, dataloader,\n",
    "    train_samples = train_samples,\n",
    "    n_permute = n_permute,\n",
    "    change_permute_freq = change_permute_freq,\n",
    "    batch_size=batch_size)"
   ]
  },
  {
   "cell_type": "code",
   "execution_count": null,
   "metadata": {},
   "outputs": [
    {
     "ename": "NameError",
     "evalue": "name 'cbp_loss_hist' is not defined",
     "output_type": "error",
     "traceback": [
      "\u001b[1;31m---------------------------------------------------------------------------\u001b[0m",
      "\u001b[1;31mNameError\u001b[0m                                 Traceback (most recent call last)",
      "\u001b[1;32m<ipython-input-8-04bf149cc677>\u001b[0m in \u001b[0;36m<module>\u001b[1;34m\u001b[0m\n\u001b[0;32m      9\u001b[0m \u001b[1;33m\u001b[0m\u001b[0m\n\u001b[0;32m     10\u001b[0m \u001b[0mplt\u001b[0m\u001b[1;33m.\u001b[0m\u001b[0mtitle\u001b[0m\u001b[1;33m(\u001b[0m\u001b[1;34m'Loss'\u001b[0m\u001b[1;33m)\u001b[0m\u001b[1;33m\u001b[0m\u001b[1;33m\u001b[0m\u001b[0m\n\u001b[1;32m---> 11\u001b[1;33m \u001b[0mys\u001b[0m \u001b[1;33m=\u001b[0m \u001b[0mmoving_average\u001b[0m\u001b[1;33m(\u001b[0m\u001b[0mcbp_loss_hist\u001b[0m\u001b[1;33m,\u001b[0m \u001b[0mavg_len\u001b[0m\u001b[1;33m)\u001b[0m\u001b[1;33m\u001b[0m\u001b[1;33m\u001b[0m\u001b[0m\n\u001b[0m\u001b[0;32m     12\u001b[0m \u001b[0mxs\u001b[0m \u001b[1;33m=\u001b[0m \u001b[0mnp\u001b[0m\u001b[1;33m.\u001b[0m\u001b[0marange\u001b[0m\u001b[1;33m(\u001b[0m\u001b[0mlen\u001b[0m\u001b[1;33m(\u001b[0m\u001b[0mys\u001b[0m\u001b[1;33m)\u001b[0m\u001b[1;33m)\u001b[0m \u001b[1;33m/\u001b[0m \u001b[0mlen\u001b[0m\u001b[1;33m(\u001b[0m\u001b[0mys\u001b[0m\u001b[1;33m)\u001b[0m \u001b[1;33m*\u001b[0m \u001b[0mlen\u001b[0m\u001b[1;33m(\u001b[0m\u001b[0mcbp_loss_hist\u001b[0m\u001b[1;33m)\u001b[0m \u001b[1;33m*\u001b[0m \u001b[0mbatch_size\u001b[0m\u001b[1;33m\u001b[0m\u001b[1;33m\u001b[0m\u001b[0m\n\u001b[0;32m     13\u001b[0m \u001b[0mplt\u001b[0m\u001b[1;33m.\u001b[0m\u001b[0mplot\u001b[0m\u001b[1;33m(\u001b[0m\u001b[0mxs\u001b[0m\u001b[1;33m,\u001b[0m \u001b[0mys\u001b[0m\u001b[1;33m)\u001b[0m\u001b[1;33m\u001b[0m\u001b[1;33m\u001b[0m\u001b[0m\n",
      "\u001b[1;31mNameError\u001b[0m: name 'cbp_loss_hist' is not defined"
     ]
    },
    {
     "data": {
      "image/png": "[encoded data removed]",
      "text/plain": [
       "<Figure size 432x288 with 1 Axes>"
      ]
     },
     "metadata": {
      "needs_background": "light"
     },
     "output_type": "display_data"
    }
   ],
   "source": [
    "# Plot the moving average of loss and accuracy\n",
    "# Source: https://stackoverflow.com/questions/14313510/how-to-calculate-rolling-moving-average-using-python-numpy-scipy\n",
    "def moving_average(a, n=3):\n",
    "    ret = np.cumsum(a, dtype=float)\n",
    "    ret[n:] = ret[n:] - ret[:-n]\n",
    "    return ret[n - 1:] / n\n",
    "\n",
    "avg_len = 1000\n",
    "\n",
    "plt.title('Loss')\n",
    "ys = moving_average(cbp_loss_hist, avg_len)\n",
    "xs = np.arange(len(ys)) / len(ys) * len(cbp_loss_hist) * batch_size\n",
    "plt.plot(xs, ys)\n",
    "plt.show()\n",
    "\n",
    "plt.title('Accuracy')\n",
    "ys = moving_average(cbp_acc_hist, avg_len)\n",
    "xs = np.arange(len(ys)) / len(ys) * len(cbp_acc_hist) * batch_size\n",
    "plt.plot(xs, ys)\n",
    "plt.show()"
   ]
  },
  {
   "cell_type": "code",
   "execution_count": null,
   "metadata": {},
   "outputs": [],
   "source": []
  }
 ],
 "metadata": {
  "interpreter": {
   "hash": "6717cf457fe527f2ad07ab71b4770f157b357bf37d07e7427487ba89b10c0212"
  },
  "kernelspec": {
   "display_name": "Python 3.9.7 ('ml2')",
   "language": "python",
   "name": "python3"
  },
  "language_info": {
   "codemirror_mode": {
    "name": "ipython",
    "version": 3
   },
   "file_extension": ".py",
   "mimetype": "text/x-python",
   "name": "python",
   "nbconvert_exporter": "python",
   "pygments_lexer": "ipython3",
   "version": "3.9.7"
  },
  "orig_nbformat": 4
 },
 "nbformat": 4,
 "nbformat_minor": 2
}
