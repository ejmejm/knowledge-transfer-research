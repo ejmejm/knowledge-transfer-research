{
 "cells": [
  {
   "cell_type": "code",
   "execution_count": 1,
   "metadata": {},
   "outputs": [],
   "source": [
    "import copy\n",
    "import random\n",
    "\n",
    "import numpy as np\n",
    "import torch\n",
    "from torch import nn\n",
    "from torch.nn import functional as F\n",
    "from torchvision import datasets\n",
    "import matplotlib.pyplot as plt\n",
    "\n",
    "%matplotlib inline"
   ]
  },
  {
   "cell_type": "code",
   "execution_count": 2,
   "metadata": {},
   "outputs": [],
   "source": [
    "DEVICE = 'cuda'"
   ]
  },
  {
   "cell_type": "code",
   "execution_count": 3,
   "metadata": {},
   "outputs": [
    {
     "name": "stderr",
     "output_type": "stream",
     "text": [
      "C:\\Users\\ninja\\.conda\\envs\\ml2\\lib\\site-packages\\torchvision\\datasets\\mnist.py:498: UserWarning: The given NumPy array is not writeable, and PyTorch does not support non-writeable tensors. This means you can write to the underlying (supposedly non-writeable) NumPy array using the tensor. You may want to copy the array to protect its data or make it writeable before converting it to a tensor. This type of warning will be suppressed for the rest of this program. (Triggered internally at  ..\\torch\\csrc\\utils\\tensor_numpy.cpp:180.)\n",
      "  return torch.from_numpy(parsed.astype(m[2], copy=False)).view(*s)\n"
     ]
    },
    {
     "name": "stdout",
     "output_type": "stream",
     "text": [
      "Mnist train shape: torch.Size([60000, 1, 28, 28])\n",
      "Mnist test shape: torch.Size([10000, 1, 28, 28])\n",
      "Files already downloaded and verified\n",
      "Cifar train shape: torch.Size([50000, 3, 32, 32])\n",
      "Files already downloaded and verified\n",
      "Cifar test shape: torch.Size([10000, 3, 32, 32])\n"
     ]
    }
   ],
   "source": [
    "mnist_trainset = datasets.MNIST(root='./data', train=True, download=True, transform=None)\n",
    "mnist_data = mnist_trainset.data.unsqueeze(1) / 255\n",
    "mnist_data = mnist_data.to(DEVICE)\n",
    "mnist_labels = mnist_trainset.targets.to(DEVICE)\n",
    "print('Mnist train shape:', mnist_data.shape)\n",
    "\n",
    "mnist_testset = datasets.MNIST(root='./data', train=False, download=True, transform=None)\n",
    "mnist_test_data = mnist_testset.data.unsqueeze(1) / 255\n",
    "mnist_test_data = mnist_test_data.to(DEVICE)\n",
    "mnist_test_labels = mnist_testset.targets.to(DEVICE)\n",
    "print('Mnist test shape:', mnist_test_data.shape)\n",
    "\n",
    "mnist_data_tuple = (mnist_data, mnist_labels, mnist_test_data, mnist_test_labels)\n",
    "\n",
    "# Now do the same for cifar-10\n",
    "cifar_trainset = datasets.CIFAR10(root='./data', train=True, download=True, transform=None)\n",
    "cifar_data = torch.from_numpy(cifar_trainset.data).to(DEVICE)\n",
    "cifar_data = cifar_data.permute(0, 3, 1, 2) / 255\n",
    "cifar_labels = torch.LongTensor(cifar_trainset.targets).to(DEVICE)\n",
    "print('Cifar train shape:', cifar_data.shape)\n",
    "\n",
    "cifar_testset = datasets.CIFAR10(root='./data', train=False, download=True, transform=None)\n",
    "cifar_test_data = torch.from_numpy(cifar_testset.data).to(DEVICE)\n",
    "cifar_test_data = cifar_test_data.permute(0, 3, 1, 2) / 255\n",
    "cifar_test_labels = torch.LongTensor(cifar_testset.targets).to(DEVICE)\n",
    "print('Cifar test shape:', cifar_test_data.shape)\n",
    "\n",
    "cifar_data_tuple = (cifar_data, cifar_labels, cifar_test_data, cifar_test_labels)"
   ]
  },
  {
   "cell_type": "code",
   "execution_count": 4,
   "metadata": {},
   "outputs": [],
   "source": [
    "# Create simple convnet for MNIST\n",
    "class MnistConvNet(nn.Module):\n",
    "    def __init__(self):\n",
    "        super().__init__()\n",
    "        self.layers = nn.Sequential(\n",
    "            nn.Conv2d(1, 16, kernel_size=5, stride=1, padding=1),\n",
    "            nn.ReLU(),\n",
    "            nn.MaxPool2d(kernel_size=2, stride=2),\n",
    "            nn.Conv2d(16, 32, kernel_size=5, stride=1, padding=1),\n",
    "            nn.ReLU(),\n",
    "            nn.MaxPool2d(kernel_size=2, stride=2),\n",
    "            nn.Flatten(),\n",
    "            nn.Linear(32 * 5 * 5, 10))\n",
    "\n",
    "    def forward(self, x):\n",
    "        return self.layers(x)"
   ]
  },
  {
   "cell_type": "code",
   "execution_count": 5,
   "metadata": {},
   "outputs": [
    {
     "name": "stderr",
     "output_type": "stream",
     "text": [
      "<ipython-input-5-016a79ebf43c>:21: UserWarning: To copy construct from a tensor, it is recommended to use sourceTensor.clone().detach() or sourceTensor.clone().detach().requires_grad_(True), rather than torch.tensor(sourceTensor).\n",
      "  x = torch.tensor(data[i:i+batch_size], dtype=torch.float32)\n",
      "<ipython-input-5-016a79ebf43c>:22: UserWarning: To copy construct from a tensor, it is recommended to use sourceTensor.clone().detach() or sourceTensor.clone().detach().requires_grad_(True), rather than torch.tensor(sourceTensor).\n",
      "  y = torch.tensor(labels[i:i+batch_size], dtype=torch.long)\n"
     ]
    },
    {
     "name": "stdout",
     "output_type": "stream",
     "text": [
      "Epoch 0: train loss = 0.361, train accuracy = 88.57%\n",
      "\ttest loss = 0.080, test accuracy = 97.51%\n",
      "Epoch 1: train loss = 0.063, train accuracy = 98.13%\n",
      "\ttest loss = 0.041, test accuracy = 98.65%\n",
      "Epoch 2: train loss = 0.041, train accuracy = 98.76%\n",
      "\ttest loss = 0.042, test accuracy = 98.64%\n",
      "Epoch 3: train loss = 0.032, train accuracy = 99.04%\n",
      "\ttest loss = 0.042, test accuracy = 98.69%\n",
      "Epoch 4: train loss = 0.026, train accuracy = 99.21%\n",
      "\ttest loss = 0.030, test accuracy = 99.01%\n",
      "Epoch 5: train loss = 0.022, train accuracy = 99.34%\n",
      "\ttest loss = 0.036, test accuracy = 98.94%\n",
      "Epoch 6: train loss = 0.020, train accuracy = 99.37%\n",
      "\ttest loss = 0.052, test accuracy = 98.50%\n",
      "Epoch 7: train loss = 0.021, train accuracy = 99.36%\n",
      "\ttest loss = 0.066, test accuracy = 98.05%\n",
      "Epoch 8: train loss = 0.019, train accuracy = 99.39%\n",
      "\ttest loss = 0.048, test accuracy = 98.71%\n",
      "Epoch 9: train loss = 0.016, train accuracy = 99.47%\n",
      "\ttest loss = 0.039, test accuracy = 98.90%\n"
     ]
    },
    {
     "data": {
      "text/plain": [
       "([0.36055571045726537,\n",
       "  0.06264246307934324,\n",
       "  0.041276550556843476,\n",
       "  0.031958541631077725,\n",
       "  0.026019902310023706,\n",
       "  0.022055921307764948,\n",
       "  0.02044342951849103,\n",
       "  0.02055273427007099,\n",
       "  0.018519475023883084,\n",
       "  0.0163556001537169],\n",
       " [0.8856500434378783,\n",
       "  0.9812833786010742,\n",
       "  0.987550042072932,\n",
       "  0.9904000441233317,\n",
       "  0.9920833776394526,\n",
       "  0.9933500419060389,\n",
       "  0.9937000433603923,\n",
       "  0.9935833801825841,\n",
       "  0.9938833743333817,\n",
       "  0.9947333772977193],\n",
       " [0.08020196855068207,\n",
       "  0.040833406150341034,\n",
       "  0.042340826243162155,\n",
       "  0.042320266366004944,\n",
       "  0.029882485046982765,\n",
       "  0.03636326640844345,\n",
       "  0.05214710533618927,\n",
       "  0.06583257019519806,\n",
       "  0.047673434019088745,\n",
       "  0.03853590413928032],\n",
       " [0.9750999808311462,\n",
       "  0.9864999651908875,\n",
       "  0.9863999485969543,\n",
       "  0.9868999719619751,\n",
       "  0.9900999665260315,\n",
       "  0.9893999695777893,\n",
       "  0.98499995470047,\n",
       "  0.9804999828338623,\n",
       "  0.9870999455451965,\n",
       "  0.9889999628067017])"
      ]
     },
     "execution_count": 5,
     "metadata": {},
     "output_type": "execute_result"
    }
   ],
   "source": [
    "def validate(model, data, labels):\n",
    "    model.eval()\n",
    "    with torch.no_grad():\n",
    "        y_pred = model(data)\n",
    "        loss = F.cross_entropy(y_pred, labels)\n",
    "        accuracy = (y_pred.argmax(dim=1) == labels).float().mean()\n",
    "    model.train()\n",
    "    return loss.item(), accuracy.item()\n",
    "\n",
    "# Simple training loop for MNIST\n",
    "def train_mnist(\n",
    "        model, data, labels, test_data=None, test_labels=None,\n",
    "        num_epochs=10, batch_size=1000, lr=0.01, verbose=True):\n",
    "    optimizer = torch.optim.Adam(model.parameters(), lr=lr)\n",
    "    train_losses, val_losses = [], []\n",
    "    train_accs, val_accs = [], []\n",
    "    for epoch in range(num_epochs):\n",
    "        epoch_losses = []\n",
    "        epoch_accuracies = []\n",
    "        for i in range(0, data.shape[0], batch_size):\n",
    "            x = torch.tensor(data[i:i+batch_size], dtype=torch.float32)\n",
    "            y = torch.tensor(labels[i:i+batch_size], dtype=torch.long)\n",
    "\n",
    "            y_pred = model(x)\n",
    "            loss = F.cross_entropy(y_pred, y)\n",
    "            epoch_losses.append(loss.item())\n",
    "            accuracy = (y_pred.argmax(dim=1) == y).float().mean()\n",
    "            epoch_accuracies.append(accuracy.item())\n",
    "\n",
    "            optimizer.zero_grad()\n",
    "            loss.backward()\n",
    "            optimizer.step()\n",
    "\n",
    "        valid_loss, valid_acc = validate(model, test_data, test_labels)\n",
    "        train_losses.append(np.mean(epoch_losses))\n",
    "        train_accs.append(np.mean(epoch_accuracies))\n",
    "        val_losses.append(valid_loss)\n",
    "        val_accs.append(valid_acc)\n",
    "        if verbose or epoch == num_epochs - 1:\n",
    "            print('Epoch {}: train loss = {:.3f}, train accuracy = {:.2f}%'.format(\n",
    "                epoch, np.mean(epoch_losses), np.mean(epoch_accuracies) * 100) \\\n",
    "                + '\\n\\ttest loss = {:.3f}, test accuracy = {:.2f}%'.format(valid_loss, valid_acc * 100))\n",
    "\n",
    "    return train_losses, train_accs, val_losses, val_accs\n",
    "    \n",
    "# Train the model\n",
    "model = MnistConvNet().to(DEVICE)\n",
    "train_mnist(model, *mnist_data_tuple, num_epochs=10, lr=0.01)"
   ]
  },
  {
   "cell_type": "code",
   "execution_count": 6,
   "metadata": {},
   "outputs": [
    {
     "data": {
      "image/png": "[encoded data removed]",
      "text/plain": [
       "<Figure size 720x720 with 25 Axes>"
      ]
     },
     "metadata": {
      "needs_background": "light"
     },
     "output_type": "display_data"
    }
   ],
   "source": [
    "def visualize_filters(weights, sz=5):\n",
    "    # Visualize the filters in any layer of a conv net\n",
    "    model.eval()\n",
    "    with torch.no_grad():\n",
    "        filters = weights.detach().cpu().numpy()\n",
    "        filters = filters.reshape(\n",
    "            filters.shape[0] * filters.shape[1],\n",
    "            filters.shape[2], filters.shape[3])\n",
    "        filters = np.squeeze(filters)\n",
    "        min_val, max_val = filters.min(), filters.max()\n",
    "        filters = (filters + min_val) / (max_val - min_val)\n",
    "        filters = np.uint8(filters * 255)\n",
    "        # draw a grid of size sz x sz, with each entry being a randomly chosen filter\n",
    "        filters_idxs = np.random.choice(filters.shape[0], size=(sz, sz))\n",
    "        fig, ax = plt.subplots(sz, sz, figsize=(10, 10))\n",
    "        for i in range(sz):\n",
    "            for j in range(sz):\n",
    "                ax[i, j].imshow(filters[filters_idxs[i, j]])\n",
    "                ax[i, j].axis('off')\n",
    "    plt.show()\n",
    "\n",
    "visualize_filters(model.layers[0].weight)\n",
    "# visualize_filters(model.layers[3].weight)"
   ]
  },
  {
   "cell_type": "markdown",
   "metadata": {},
   "source": [
    "## Learning ideas\n",
    "\n",
    "Types of self-supervised learning\n",
    "- Contrastive learning\n",
    "\n",
    "\n",
    "- Learn filters that are maximally different\n",
    "- Learn filters that lead to non-correlated activations\n",
    "- Try to reconstruct the input using the filters"
   ]
  },
  {
   "cell_type": "markdown",
   "metadata": {},
   "source": [
    "## Trying to develop a reverse convolution training method"
   ]
  },
  {
   "cell_type": "code",
   "execution_count": 7,
   "metadata": {},
   "outputs": [
    {
     "name": "stderr",
     "output_type": "stream",
     "text": [
      "<ipython-input-7-8fb426b64a15>:8: UserWarning: nn.init.xavier_uniform is now deprecated in favor of nn.init.xavier_uniform_.\n",
      "  nn.init.xavier_uniform(filters)\n",
      "<ipython-input-7-8fb426b64a15>:16: UserWarning: nn.init.xavier_uniform is now deprecated in favor of nn.init.xavier_uniform_.\n",
      "  nn.init.xavier_uniform(reverse_weights)\n"
     ]
    },
    {
     "name": "stdout",
     "output_type": "stream",
     "text": [
      "loss: 8.687\n",
      "loss: 8.653\n",
      "loss: 8.555\n",
      "loss: 8.176\n",
      "loss: 6.912\n",
      "loss: 4.981\n",
      "loss: 4.045\n",
      "loss: 3.410\n",
      "loss: 2.907\n",
      "loss: 2.528\n",
      "loss: 2.213\n",
      "loss: 1.955\n",
      "loss: 1.748\n",
      "loss: 1.577\n",
      "loss: 1.430\n",
      "loss: 1.304\n",
      "loss: 1.199\n",
      "loss: 1.113\n",
      "loss: 1.040\n",
      "loss: 0.974\n"
     ]
    }
   ],
   "source": [
    "input_img = mnist_data[0]\n",
    "\n",
    "n_filters = 16 # 16\n",
    "filter_sz = 7\n",
    "stride = 1\n",
    "padding = 0\n",
    "filters = torch.empty((n_filters, 1, filter_sz, filter_sz), dtype=torch.float32, device=DEVICE)\n",
    "nn.init.xavier_uniform(filters)\n",
    "output_shape = ((input_img.shape[1] - filter_sz + 2 * padding) // stride + 1,\n",
    "               (input_img.shape[2] - filter_sz + 2 * padding) // stride + 1)\n",
    "filters.requires_grad = True\n",
    "\n",
    "# reverse_weights = torch.empty((n_filters, 1, output_size, output_size), dtype=torch.float32, device=DEVICE)\n",
    "reverse_weights = torch.empty((output_shape[0], output_shape[1], n_filters, 1), dtype=torch.float32, device=DEVICE)\n",
    "reverse_weights.requires_grad = True\n",
    "nn.init.xavier_uniform(reverse_weights)\n",
    "\n",
    "\n",
    "optim = torch.optim.SGD([filters, reverse_weights], lr=1)\n",
    "\n",
    "## Attempt 1: Doesn't work\n",
    "# for i in range(200):\n",
    "#     patch_start = (input_img.shape[-1] - filter_sz) // 2 # 12\n",
    "#     target_img_patch = input_img[0, patch_start:patch_start+filter_sz, patch_start:patch_start+filter_sz]\n",
    "#     reversed_output = (filters * reverse_weights[:, :, :1, :1]).sum(dim=0)\n",
    "#     loss = torch.mean(torch.square(target_img_patch - reversed_output.squeeze()))\n",
    "#     if i % 5 == 0:\n",
    "#         print('loss: {:.3f}'.format(loss.item()))\n",
    "\n",
    "#     optim.zero_grad()\n",
    "#     loss.backward()\n",
    "#     optim.step()\n",
    "\n",
    "## Attempt 3: Couldn't figure out how to get this to work with scattering\n",
    "# for i in range(100):\n",
    "#     reversed_outputs = (filters.unsqueeze(0).unsqueeze(0) * reverse_weights.unsqueeze(-1).unsqueeze(-1)).sum(dim=2)\n",
    "#     reversed_outputs = reversed_outputs.squeeze()\n",
    "#     # reversed_img = torch.zeros(list(input_img.shape) + [np.prod(reversed_outputs.shape)], dtype=torch.float32, device=DEVICE)\n",
    "#     # reversed_img_overlap = torch.zeros_like(reversed_img)\n",
    "#     loss_sum = 0\n",
    "#     for j in range(0, reversed_outputs.shape[0]):\n",
    "#         for k in range(0, reversed_outputs.shape[1]):\n",
    "#             img_idx = (j*stride, k*stride)\n",
    "#             target_img_patch = input_img[:, img_idx[0]:img_idx[0]+filter_sz, img_idx[1]:img_idx[1]+filter_sz]\n",
    "#             loss_sum += torch.sum(torch.square(target_img_patch - reversed_outputs[j, k]))\n",
    "#     loss = loss_sum / (reversed_outputs.shape[0] * reversed_outputs.shape[1])\n",
    "\n",
    "# Attempt 4: Works and is fast\n",
    "for i in range(100):\n",
    "    reversed_outputs = (filters.unsqueeze(0).unsqueeze(0) * reverse_weights.unsqueeze(-1).unsqueeze(-1)).sum(dim=2)\n",
    "    reversed_outputs = reversed_outputs.squeeze()\n",
    "    img_patches = []\n",
    "    for j in range(0, reversed_outputs.shape[0]):\n",
    "        for k in range(0, reversed_outputs.shape[1]):\n",
    "            img_idx = (j*stride, k*stride)\n",
    "            target_img_patch = input_img[:, img_idx[0]:img_idx[0]+filter_sz, img_idx[1]:img_idx[1]+filter_sz]\n",
    "            img_patches.append(target_img_patch)\n",
    "    img_patches = torch.stack(img_patches)\n",
    "    img_patches = img_patches.reshape(*reversed_outputs.shape)\n",
    "\n",
    "    losses = (reversed_outputs - img_patches) ** 2\n",
    "    loss = losses.mean([0, 1]).sum()\n",
    "\n",
    "    if i % 5 == 0:\n",
    "        print('loss: {:.3f}'.format(loss.item()))\n",
    "\n",
    "    optim.zero_grad()\n",
    "    loss.backward()\n",
    "    optim.step()"
   ]
  },
  {
   "cell_type": "markdown",
   "metadata": {},
   "source": [
    "## Training loop for re-conv"
   ]
  },
  {
   "cell_type": "code",
   "execution_count": 8,
   "metadata": {},
   "outputs": [],
   "source": [
    "def train_re_conv(\n",
    "        data, batch_size=1000, epochs=50, lr=1, in_filters=1,\n",
    "        out_filters=16, filter_sz=5, stride=1, verbose=True):\n",
    "    # Data should be of shape (n_samples, in_filters, img_sz, img_sz)\n",
    "\n",
    "    filters = torch.empty((out_filters, in_filters, filter_sz, filter_sz), dtype=torch.float32, device=DEVICE)\n",
    "    nn.init.xavier_uniform(filters)\n",
    "    output_shape = ((data.shape[2] - filter_sz + 2 * 0) // stride + 1,\n",
    "                (data.shape[3] - filter_sz + 2 * 0) // stride + 1)\n",
    "    filters.requires_grad = True\n",
    "\n",
    "    # reverse_weights = torch.empty((out_filters, 1, output_size, output_size), dtype=torch.float32, device=DEVICE)\n",
    "    reverse_weights = torch.empty((output_shape[0], output_shape[1], out_filters, in_filters), dtype=torch.float32, device=DEVICE)\n",
    "    reverse_weights.requires_grad = True\n",
    "    nn.init.xavier_uniform(reverse_weights)\n",
    "\n",
    "    optim = torch.optim.Adam([filters, reverse_weights], lr=lr)\n",
    "    \n",
    "    for epoch in range(epochs):\n",
    "        for i in range(0, data.shape[0], batch_size):\n",
    "            batch = data[i:i+batch_size]\n",
    "            reversed_outputs = (filters.unsqueeze(0).unsqueeze(0) * reverse_weights.unsqueeze(-1).unsqueeze(-1)).sum(dim=2)\n",
    "            reversed_outputs = reversed_outputs.squeeze()\n",
    "            img_patches = []\n",
    "            for j in range(0, reversed_outputs.shape[0]):\n",
    "                for k in range(0, reversed_outputs.shape[1]):\n",
    "                    img_idx = (j*stride, k*stride)\n",
    "                    target_img_patch = batch[:, :, img_idx[0]:img_idx[0]+filter_sz, img_idx[1]:img_idx[1]+filter_sz]\n",
    "                    img_patches.append(target_img_patch)\n",
    "            img_patches = torch.stack(img_patches, dim=1)\n",
    "            reversed_outputs = reversed_outputs.reshape(*img_patches.shape[1:])\n",
    "            losses = (reversed_outputs.unsqueeze(0) - img_patches) ** 2\n",
    "            loss = losses.mean([0, 1, 2]).sum()\n",
    "\n",
    "        if (epoch % 1 == 0 and verbose) or epoch == epochs - 1:\n",
    "            print('Epoch {}\\tloss: {:.3f}'.format(epoch, loss.item()))\n",
    "\n",
    "        optim.zero_grad()\n",
    "        loss.backward()\n",
    "        optim.step()\n",
    "    \n",
    "    return filters, reversed_outputs"
   ]
  },
  {
   "cell_type": "code",
   "execution_count": 9,
   "metadata": {},
   "outputs": [],
   "source": [
    "def prep_imshow(tensor):\n",
    "    return tensor.detach().cpu().numpy().squeeze()"
   ]
  },
  {
   "cell_type": "code",
   "execution_count": 84,
   "metadata": {},
   "outputs": [
    {
     "data": {
      "text/plain": [
       "<matplotlib.image.AxesImage at 0x25d1aaaf310>"
      ]
     },
     "execution_count": 84,
     "metadata": {},
     "output_type": "execute_result"
    },
    {
     "data": {
      "image/png": "[encoded data removed]",
      "text/plain": [
       "<Figure size 432x288 with 1 Axes>"
      ]
     },
     "metadata": {
      "needs_background": "light"
     },
     "output_type": "display_data"
    }
   ],
   "source": [
    "reversed_img = torch.zeros(list(input_img.shape), dtype=torch.float32, device=DEVICE)\n",
    "reversed_img_overlap = torch.zeros_like(reversed_img)\n",
    "loss_sum = 0\n",
    "for j in range(0, reversed_outputs.shape[0]):\n",
    "    for k in range(0, reversed_outputs.shape[1]):\n",
    "        img_idx = (j*stride, k*stride)\n",
    "        reversed_img[0, img_idx[0]:img_idx[0]+filter_sz, img_idx[1]:img_idx[1]+filter_sz] += reversed_outputs[j, k] # , 0]\n",
    "        reversed_img_overlap[0, img_idx[0]:img_idx[0]+filter_sz, img_idx[1]:img_idx[1]+filter_sz] += 1\n",
    "        # Need to try rewriting using scatter\n",
    "\n",
    "plt.imshow(prep_imshow(reversed_img))"
   ]
  },
  {
   "cell_type": "code",
   "execution_count": 85,
   "metadata": {},
   "outputs": [
    {
     "data": {
      "text/plain": [
       "<matplotlib.image.AxesImage at 0x25c1b86beb0>"
      ]
     },
     "execution_count": 85,
     "metadata": {},
     "output_type": "execute_result"
    },
    {
     "data": {
      "image/png": "[encoded data removed]",
      "text/plain": [
       "<Figure size 432x288 with 1 Axes>"
      ]
     },
     "metadata": {
      "needs_background": "light"
     },
     "output_type": "display_data"
    }
   ],
   "source": [
    "plt.imshow(prep_imshow(input_img))"
   ]
  },
  {
   "cell_type": "code",
   "execution_count": 52,
   "metadata": {},
   "outputs": [
    {
     "data": {
      "image/png": "[encoded data removed]",
      "text/plain": [
       "<Figure size 720x720 with 49 Axes>"
      ]
     },
     "metadata": {
      "needs_background": "light"
     },
     "output_type": "display_data"
    }
   ],
   "source": [
    "visualize_filters(filters, sz=7)"
   ]
  },
  {
   "cell_type": "code",
   "execution_count": 23,
   "metadata": {},
   "outputs": [
    {
     "name": "stdout",
     "output_type": "stream",
     "text": [
      "tensor([[[0., 0., 0., 0., 0., 0., 0.],\n",
      "         [0., 0., 0., 0., 0., 0., 0.],\n",
      "         [0., 0., 0., 0., 0., 0., 0.],\n",
      "         [0., 0., 0., 0., 0., 0., 0.],\n",
      "         [0., 0., 0., 0., 0., 0., 0.],\n",
      "         [0., 0., 0., 0., 0., 0., 0.],\n",
      "         [0., 0., 0., 0., 0., 0., 0.]]], device='cuda:0')\n"
     ]
    },
    {
     "ename": "NameError",
     "evalue": "name 'reversed_output' is not defined",
     "output_type": "error",
     "traceback": [
      "\u001b[1;31m---------------------------------------------------------------------------\u001b[0m",
      "\u001b[1;31mNameError\u001b[0m                                 Traceback (most recent call last)",
      "\u001b[1;32m<ipython-input-23-0c67cbe7ed78>\u001b[0m in \u001b[0;36m<module>\u001b[1;34m\u001b[0m\n\u001b[0;32m      1\u001b[0m \u001b[0mprint\u001b[0m\u001b[1;33m(\u001b[0m\u001b[0mtarget_img_patch\u001b[0m\u001b[1;33m)\u001b[0m\u001b[1;33m\u001b[0m\u001b[1;33m\u001b[0m\u001b[0m\n\u001b[1;32m----> 2\u001b[1;33m \u001b[0mprint\u001b[0m\u001b[1;33m(\u001b[0m\u001b[0mreversed_output\u001b[0m\u001b[1;33m)\u001b[0m\u001b[1;33m\u001b[0m\u001b[1;33m\u001b[0m\u001b[0m\n\u001b[0m",
      "\u001b[1;31mNameError\u001b[0m: name 'reversed_output' is not defined"
     ]
    }
   ],
   "source": [
    "print(target_img_patch)\n",
    "print(reversed_output)"
   ]
  },
  {
   "cell_type": "code",
   "execution_count": 192,
   "metadata": {},
   "outputs": [
    {
     "data": {
      "text/plain": [
       "<matplotlib.image.AxesImage at 0x1910756ff70>"
      ]
     },
     "execution_count": 192,
     "metadata": {},
     "output_type": "execute_result"
    },
    {
     "data": {
      "image/png": "[encoded data removed]",
      "text/plain": [
       "<Figure size 432x288 with 1 Axes>"
      ]
     },
     "metadata": {
      "needs_background": "light"
     },
     "output_type": "display_data"
    }
   ],
   "source": [
    "plt.imshow(prep_imshow(target_img_patch))"
   ]
  },
  {
   "cell_type": "code",
   "execution_count": 193,
   "metadata": {},
   "outputs": [
    {
     "data": {
      "text/plain": [
       "<matplotlib.image.AxesImage at 0x191075d2220>"
      ]
     },
     "execution_count": 193,
     "metadata": {},
     "output_type": "execute_result"
    },
    {
     "data": {
      "image/png": "[encoded data removed]",
      "text/plain": [
       "<Figure size 432x288 with 1 Axes>"
      ]
     },
     "metadata": {
      "needs_background": "light"
     },
     "output_type": "display_data"
    }
   ],
   "source": [
    "plt.imshow(reversed_output.detach().cpu().numpy().squeeze())"
   ]
  },
  {
   "cell_type": "code",
   "execution_count": 10,
   "metadata": {},
   "outputs": [
    {
     "name": "stderr",
     "output_type": "stream",
     "text": [
      "<ipython-input-8-eccbb8e04cc4>:8: UserWarning: nn.init.xavier_uniform is now deprecated in favor of nn.init.xavier_uniform_.\n",
      "  nn.init.xavier_uniform(filters)\n",
      "<ipython-input-8-eccbb8e04cc4>:16: UserWarning: nn.init.xavier_uniform is now deprecated in favor of nn.init.xavier_uniform_.\n",
      "  nn.init.xavier_uniform(reverse_weights)\n"
     ]
    },
    {
     "name": "stdout",
     "output_type": "stream",
     "text": [
      "Epoch 0\tloss: 4.096\n"
     ]
    },
    {
     "ename": "KeyboardInterrupt",
     "evalue": "",
     "output_type": "error",
     "traceback": [
      "\u001b[1;31m---------------------------------------------------------------------------\u001b[0m",
      "\u001b[1;31mKeyboardInterrupt\u001b[0m                         Traceback (most recent call last)",
      "\u001b[1;32m<ipython-input-10-d6d221bade2b>\u001b[0m in \u001b[0;36m<module>\u001b[1;34m\u001b[0m\n\u001b[0;32m      3\u001b[0m \u001b[0mstride\u001b[0m \u001b[1;33m=\u001b[0m \u001b[1;36m1\u001b[0m\u001b[1;33m\u001b[0m\u001b[1;33m\u001b[0m\u001b[0m\n\u001b[0;32m      4\u001b[0m \u001b[0mpadding\u001b[0m \u001b[1;33m=\u001b[0m \u001b[1;36m0\u001b[0m\u001b[1;33m\u001b[0m\u001b[1;33m\u001b[0m\u001b[0m\n\u001b[1;32m----> 5\u001b[1;33m new_filters, reversed_outputs = train_re_conv(\n\u001b[0m\u001b[0;32m      6\u001b[0m     \u001b[0mmnist_data\u001b[0m\u001b[1;33m,\u001b[0m \u001b[0mepochs\u001b[0m\u001b[1;33m=\u001b[0m\u001b[1;36m30\u001b[0m\u001b[1;33m,\u001b[0m \u001b[0mlr\u001b[0m\u001b[1;33m=\u001b[0m\u001b[1;36m0.1\u001b[0m\u001b[1;33m,\u001b[0m\u001b[1;33m\u001b[0m\u001b[1;33m\u001b[0m\u001b[0m\n\u001b[0;32m      7\u001b[0m     out_filters=n_filters, filter_sz=filter_sz, stride=stride)\n",
      "\u001b[1;32m<ipython-input-8-eccbb8e04cc4>\u001b[0m in \u001b[0;36mtrain_re_conv\u001b[1;34m(data, batch_size, epochs, lr, out_filters, filter_sz, stride, verbose)\u001b[0m\n\u001b[0;32m     29\u001b[0m                     \u001b[0mtarget_img_patch\u001b[0m \u001b[1;33m=\u001b[0m \u001b[0mbatch\u001b[0m\u001b[1;33m[\u001b[0m\u001b[1;33m:\u001b[0m\u001b[1;33m,\u001b[0m \u001b[1;33m:\u001b[0m\u001b[1;33m,\u001b[0m \u001b[0mimg_idx\u001b[0m\u001b[1;33m[\u001b[0m\u001b[1;36m0\u001b[0m\u001b[1;33m]\u001b[0m\u001b[1;33m:\u001b[0m\u001b[0mimg_idx\u001b[0m\u001b[1;33m[\u001b[0m\u001b[1;36m0\u001b[0m\u001b[1;33m]\u001b[0m\u001b[1;33m+\u001b[0m\u001b[0mfilter_sz\u001b[0m\u001b[1;33m,\u001b[0m \u001b[0mimg_idx\u001b[0m\u001b[1;33m[\u001b[0m\u001b[1;36m1\u001b[0m\u001b[1;33m]\u001b[0m\u001b[1;33m:\u001b[0m\u001b[0mimg_idx\u001b[0m\u001b[1;33m[\u001b[0m\u001b[1;36m1\u001b[0m\u001b[1;33m]\u001b[0m\u001b[1;33m+\u001b[0m\u001b[0mfilter_sz\u001b[0m\u001b[1;33m]\u001b[0m\u001b[1;33m\u001b[0m\u001b[1;33m\u001b[0m\u001b[0m\n\u001b[0;32m     30\u001b[0m                     \u001b[0mimg_patches\u001b[0m\u001b[1;33m.\u001b[0m\u001b[0mappend\u001b[0m\u001b[1;33m(\u001b[0m\u001b[0mtarget_img_patch\u001b[0m\u001b[1;33m)\u001b[0m\u001b[1;33m\u001b[0m\u001b[1;33m\u001b[0m\u001b[0m\n\u001b[1;32m---> 31\u001b[1;33m             \u001b[0mimg_patches\u001b[0m \u001b[1;33m=\u001b[0m \u001b[0mtorch\u001b[0m\u001b[1;33m.\u001b[0m\u001b[0mstack\u001b[0m\u001b[1;33m(\u001b[0m\u001b[0mimg_patches\u001b[0m\u001b[1;33m,\u001b[0m \u001b[0mdim\u001b[0m\u001b[1;33m=\u001b[0m\u001b[1;36m1\u001b[0m\u001b[1;33m)\u001b[0m\u001b[1;33m\u001b[0m\u001b[1;33m\u001b[0m\u001b[0m\n\u001b[0m\u001b[0;32m     32\u001b[0m             \u001b[0mreversed_outputs\u001b[0m \u001b[1;33m=\u001b[0m \u001b[0mreversed_outputs\u001b[0m\u001b[1;33m.\u001b[0m\u001b[0mreshape\u001b[0m\u001b[1;33m(\u001b[0m\u001b[1;33m*\u001b[0m\u001b[0mimg_patches\u001b[0m\u001b[1;33m.\u001b[0m\u001b[0mshape\u001b[0m\u001b[1;33m[\u001b[0m\u001b[1;36m1\u001b[0m\u001b[1;33m:\u001b[0m\u001b[1;33m]\u001b[0m\u001b[1;33m)\u001b[0m\u001b[1;33m\u001b[0m\u001b[1;33m\u001b[0m\u001b[0m\n\u001b[0;32m     33\u001b[0m             \u001b[0mlosses\u001b[0m \u001b[1;33m=\u001b[0m \u001b[1;33m(\u001b[0m\u001b[0mreversed_outputs\u001b[0m\u001b[1;33m.\u001b[0m\u001b[0munsqueeze\u001b[0m\u001b[1;33m(\u001b[0m\u001b[1;36m0\u001b[0m\u001b[1;33m)\u001b[0m \u001b[1;33m-\u001b[0m \u001b[0mimg_patches\u001b[0m\u001b[1;33m)\u001b[0m \u001b[1;33m**\u001b[0m \u001b[1;36m2\u001b[0m\u001b[1;33m\u001b[0m\u001b[1;33m\u001b[0m\u001b[0m\n",
      "\u001b[1;31mKeyboardInterrupt\u001b[0m: "
     ]
    }
   ],
   "source": [
    "n_filters = 16\n",
    "filter_sz = 5\n",
    "stride = 1\n",
    "padding = 0\n",
    "new_filters, reversed_outputs = train_re_conv(\n",
    "    mnist_data, epochs=30, lr=0.1,\n",
    "    out_filters=n_filters, filter_sz=filter_sz, stride=stride)\n",
    "visualize_filters(new_filters, sz=5)"
   ]
  },
  {
   "cell_type": "code",
   "execution_count": 12,
   "metadata": {},
   "outputs": [],
   "source": [
    "class SmallConvNet(nn.Module):\n",
    "    def __init__(self, input_shape=(1, 28, 28)):\n",
    "        super().__init__()\n",
    "\n",
    "        conv_layers = nn.Sequential(\n",
    "            nn.Conv2d(input_shape[0], 16, kernel_size=5, stride=1, padding=0),\n",
    "            nn.ReLU(),\n",
    "            nn.MaxPool2d(kernel_size=2, stride=2),\n",
    "            nn.Flatten())\n",
    "\n",
    "        test_input = torch.randn(input_shape).unsqueeze(0)\n",
    "        out_dim = conv_layers(test_input).shape[1]\n",
    "\n",
    "        self.layers = nn.Sequential(\n",
    "            *conv_layers,\n",
    "            nn.Linear(out_dim, 10))\n",
    "\n",
    "    def forward(self, x):\n",
    "        return self.layers(x)"
   ]
  },
  {
   "cell_type": "code",
   "execution_count": 102,
   "metadata": {},
   "outputs": [],
   "source": [
    "init_model = SmallConvNet()"
   ]
  },
  {
   "cell_type": "code",
   "execution_count": 109,
   "metadata": {},
   "outputs": [
    {
     "name": "stderr",
     "output_type": "stream",
     "text": [
      "<ipython-input-6-44d99d82652b>:17: UserWarning: To copy construct from a tensor, it is recommended to use sourceTensor.clone().detach() or sourceTensor.clone().detach().requires_grad_(True), rather than torch.tensor(sourceTensor).\n",
      "  x = torch.tensor(data[i:i+batch_size], dtype=torch.float32)\n",
      "<ipython-input-6-44d99d82652b>:18: UserWarning: To copy construct from a tensor, it is recommended to use sourceTensor.clone().detach() or sourceTensor.clone().detach().requires_grad_(True), rather than torch.tensor(sourceTensor).\n",
      "  y = torch.tensor(labels[i:i+batch_size], dtype=torch.long)\n"
     ]
    },
    {
     "name": "stdout",
     "output_type": "stream",
     "text": [
      "Epoch 0: train loss = 2.138, train accuracy = 49.91%\n",
      "\ttest loss = 1.905, test accuracy = 73.01%\n",
      "Epoch 1: train loss = 1.565, train accuracy = 75.40%\n",
      "\ttest loss = 1.171, test accuracy = 80.24%\n",
      "Epoch 2: train loss = 0.946, train accuracy = 81.45%\n",
      "\ttest loss = 0.733, test accuracy = 84.64%\n",
      "Epoch 3: train loss = 0.664, train accuracy = 84.73%\n",
      "\ttest loss = 0.562, test accuracy = 86.70%\n",
      "Epoch 4: train loss = 0.543, train accuracy = 86.45%\n",
      "\ttest loss = 0.479, test accuracy = 87.96%\n",
      "Epoch 5: train loss = 0.479, train accuracy = 87.54%\n",
      "\ttest loss = 0.432, test accuracy = 88.60%\n",
      "Epoch 6: train loss = 0.440, train accuracy = 88.23%\n",
      "\ttest loss = 0.402, test accuracy = 89.31%\n",
      "Epoch 7: train loss = 0.414, train accuracy = 88.72%\n",
      "\ttest loss = 0.380, test accuracy = 89.73%\n",
      "Epoch 8: train loss = 0.395, train accuracy = 89.06%\n",
      "\ttest loss = 0.364, test accuracy = 90.02%\n",
      "Epoch 9: train loss = 0.380, train accuracy = 89.34%\n",
      "\ttest loss = 0.351, test accuracy = 90.31%\n"
     ]
    }
   ],
   "source": [
    "# Train the model\n",
    "e2e_model = copy.deepcopy(init_model).to(DEVICE)\n",
    "train_mnist(e2e_model, *mnist_data_tuple, num_epochs=10, lr=0.01)"
   ]
  },
  {
   "cell_type": "code",
   "execution_count": 107,
   "metadata": {},
   "outputs": [
    {
     "name": "stderr",
     "output_type": "stream",
     "text": [
      "<ipython-input-6-44d99d82652b>:17: UserWarning: To copy construct from a tensor, it is recommended to use sourceTensor.clone().detach() or sourceTensor.clone().detach().requires_grad_(True), rather than torch.tensor(sourceTensor).\n",
      "  x = torch.tensor(data[i:i+batch_size], dtype=torch.float32)\n",
      "<ipython-input-6-44d99d82652b>:18: UserWarning: To copy construct from a tensor, it is recommended to use sourceTensor.clone().detach() or sourceTensor.clone().detach().requires_grad_(True), rather than torch.tensor(sourceTensor).\n",
      "  y = torch.tensor(labels[i:i+batch_size], dtype=torch.long)\n"
     ]
    },
    {
     "name": "stdout",
     "output_type": "stream",
     "text": [
      "Epoch 0: train loss = 1.451, train accuracy = 70.65%\n",
      "\ttest loss = 0.974, test accuracy = 83.07%\n",
      "Epoch 1: train loss = 0.846, train accuracy = 83.59%\n",
      "\ttest loss = 0.710, test accuracy = 86.12%\n",
      "Epoch 2: train loss = 0.674, train accuracy = 85.67%\n",
      "\ttest loss = 0.598, test accuracy = 87.39%\n",
      "Epoch 3: train loss = 0.589, train accuracy = 86.81%\n",
      "\ttest loss = 0.534, test accuracy = 88.20%\n",
      "Epoch 4: train loss = 0.537, train accuracy = 87.53%\n",
      "\ttest loss = 0.491, test accuracy = 88.70%\n",
      "Epoch 5: train loss = 0.500, train accuracy = 88.04%\n",
      "\ttest loss = 0.461, test accuracy = 89.17%\n",
      "Epoch 6: train loss = 0.473, train accuracy = 88.48%\n",
      "\ttest loss = 0.438, test accuracy = 89.58%\n",
      "Epoch 7: train loss = 0.452, train accuracy = 88.80%\n",
      "\ttest loss = 0.420, test accuracy = 89.96%\n",
      "Epoch 8: train loss = 0.436, train accuracy = 89.07%\n",
      "\ttest loss = 0.405, test accuracy = 90.20%\n",
      "Epoch 9: train loss = 0.422, train accuracy = 89.28%\n",
      "\ttest loss = 0.392, test accuracy = 90.40%\n"
     ]
    }
   ],
   "source": [
    "pretrained_model = copy.deepcopy(init_model).to(DEVICE)\n",
    "with torch.no_grad():\n",
    "    pretrained_model.layers[0].weight.data = new_filters\n",
    "pretrained_model.layers[0].weight.requires_grad = False\n",
    "train_mnist(pretrained_model, *mnist_data_tuple, num_epochs=10, lr=0.01)"
   ]
  },
  {
   "cell_type": "code",
   "execution_count": 113,
   "metadata": {},
   "outputs": [
    {
     "name": "stderr",
     "output_type": "stream",
     "text": [
      "<ipython-input-86-184f6af8e8b5>:8: UserWarning: nn.init.xavier_uniform is now deprecated in favor of nn.init.xavier_uniform_.\n",
      "  nn.init.xavier_uniform(filters)\n",
      "<ipython-input-86-184f6af8e8b5>:16: UserWarning: nn.init.xavier_uniform is now deprecated in favor of nn.init.xavier_uniform_.\n",
      "  nn.init.xavier_uniform(reverse_weights)\n"
     ]
    },
    {
     "name": "stdout",
     "output_type": "stream",
     "text": [
      "Epoch 0\tloss: 3.932\n",
      "Epoch 1\tloss: 3.746\n",
      "Epoch 2\tloss: 2.455\n",
      "Epoch 3\tloss: 1.409\n",
      "Epoch 4\tloss: 1.298\n",
      "Epoch 5\tloss: 1.087\n",
      "Epoch 6\tloss: 0.882\n",
      "Epoch 7\tloss: 0.880\n",
      "Epoch 8\tloss: 0.745\n",
      "Epoch 9\tloss: 0.548\n",
      "Epoch 10\tloss: 0.504\n",
      "Epoch 11\tloss: 0.533\n",
      "Epoch 12\tloss: 0.474\n",
      "Epoch 13\tloss: 0.396\n",
      "Epoch 14\tloss: 0.373\n",
      "Epoch 15\tloss: 0.354\n",
      "Epoch 16\tloss: 0.318\n",
      "Epoch 17\tloss: 0.292\n",
      "Epoch 18\tloss: 0.275\n",
      "Epoch 19\tloss: 0.253\n",
      "Epoch 20\tloss: 0.230\n",
      "Epoch 21\tloss: 0.216\n",
      "Epoch 22\tloss: 0.202\n",
      "Epoch 23\tloss: 0.188\n",
      "Epoch 24\tloss: 0.178\n",
      "Epoch 25\tloss: 0.172\n",
      "Epoch 26\tloss: 0.162\n",
      "Epoch 27\tloss: 0.149\n",
      "Epoch 28\tloss: 0.139\n",
      "Epoch 29\tloss: 0.130\n",
      "Epoch 30\tloss: 0.121\n",
      "Epoch 31\tloss: 0.114\n",
      "Epoch 32\tloss: 0.113\n",
      "Epoch 33\tloss: 0.110\n",
      "Epoch 34\tloss: 0.103\n",
      "Epoch 35\tloss: 0.097\n",
      "Epoch 36\tloss: 0.093\n",
      "Epoch 37\tloss: 0.090\n",
      "Epoch 38\tloss: 0.088\n",
      "Epoch 39\tloss: 0.085\n",
      "Epoch 40\tloss: 0.082\n",
      "Epoch 41\tloss: 0.079\n",
      "Epoch 42\tloss: 0.077\n",
      "Epoch 43\tloss: 0.075\n",
      "Epoch 44\tloss: 0.073\n",
      "Epoch 45\tloss: 0.071\n",
      "Epoch 46\tloss: 0.070\n",
      "Epoch 47\tloss: 0.068\n",
      "Epoch 48\tloss: 0.067\n",
      "Epoch 49\tloss: 0.066\n",
      "Epoch 50\tloss: 0.064\n",
      "Epoch 51\tloss: 0.063\n",
      "Epoch 52\tloss: 0.062\n",
      "Epoch 53\tloss: 0.061\n",
      "Epoch 54\tloss: 0.060\n",
      "Epoch 55\tloss: 0.059\n",
      "Epoch 56\tloss: 0.059\n",
      "Epoch 57\tloss: 0.058\n",
      "Epoch 58\tloss: 0.057\n",
      "Epoch 59\tloss: 0.056\n",
      "Epoch 60\tloss: 0.056\n",
      "Epoch 61\tloss: 0.055\n",
      "Epoch 62\tloss: 0.055\n",
      "Epoch 63\tloss: 0.054\n",
      "Epoch 64\tloss: 0.054\n",
      "Epoch 65\tloss: 0.054\n",
      "Epoch 66\tloss: 0.053\n",
      "Epoch 67\tloss: 0.053\n",
      "Epoch 68\tloss: 0.053\n",
      "Epoch 69\tloss: 0.052\n",
      "Epoch 70\tloss: 0.052\n",
      "Epoch 71\tloss: 0.052\n",
      "Epoch 72\tloss: 0.051\n",
      "Epoch 73\tloss: 0.051\n",
      "Epoch 74\tloss: 0.051\n",
      "Epoch 75\tloss: 0.051\n",
      "Epoch 76\tloss: 0.051\n",
      "Epoch 77\tloss: 0.050\n",
      "Epoch 78\tloss: 0.050\n",
      "Epoch 79\tloss: 0.050\n",
      "Epoch 80\tloss: 0.050\n",
      "Epoch 81\tloss: 0.050\n",
      "Epoch 82\tloss: 0.050\n",
      "Epoch 83\tloss: 0.050\n",
      "Epoch 84\tloss: 0.049\n",
      "Epoch 85\tloss: 0.049\n",
      "Epoch 86\tloss: 0.049\n",
      "Epoch 87\tloss: 0.049\n",
      "Epoch 88\tloss: 0.049\n",
      "Epoch 89\tloss: 0.049\n",
      "Epoch 90\tloss: 0.049\n",
      "Epoch 91\tloss: 0.049\n",
      "Epoch 92\tloss: 0.049\n",
      "Epoch 93\tloss: 0.049\n",
      "Epoch 94\tloss: 0.049\n",
      "Epoch 95\tloss: 0.048\n",
      "Epoch 96\tloss: 0.048\n",
      "Epoch 97\tloss: 0.048\n",
      "Epoch 98\tloss: 0.048\n",
      "Epoch 99\tloss: 0.048\n"
     ]
    },
    {
     "data": {
      "image/png": "[encoded data removed]",
      "text/plain": [
       "<Figure size 720x720 with 25 Axes>"
      ]
     },
     "metadata": {
      "needs_background": "light"
     },
     "output_type": "display_data"
    }
   ],
   "source": [
    "n_pretrain_samples = 1\n",
    "filters_n_1, reversed_outputs = train_re_conv(\n",
    "    mnist_data[:n_pretrain_samples], epochs=100, lr=0.1,\n",
    "    out_filters=n_filters, filter_sz=filter_sz, stride=stride)\n",
    "visualize_filters(filters_n_1, sz=5)"
   ]
  },
  {
   "cell_type": "code",
   "execution_count": 127,
   "metadata": {},
   "outputs": [
    {
     "name": "stderr",
     "output_type": "stream",
     "text": [
      "<ipython-input-117-7e6c1b1b02d9>:19: UserWarning: To copy construct from a tensor, it is recommended to use sourceTensor.clone().detach() or sourceTensor.clone().detach().requires_grad_(True), rather than torch.tensor(sourceTensor).\n",
      "  x = torch.tensor(data[i:i+batch_size], dtype=torch.float32)\n",
      "<ipython-input-117-7e6c1b1b02d9>:20: UserWarning: To copy construct from a tensor, it is recommended to use sourceTensor.clone().detach() or sourceTensor.clone().detach().requires_grad_(True), rather than torch.tensor(sourceTensor).\n",
      "  y = torch.tensor(labels[i:i+batch_size], dtype=torch.long)\n"
     ]
    },
    {
     "name": "stdout",
     "output_type": "stream",
     "text": [
      "Epoch 0: train loss = 0.981, train accuracy = 78.16%\n",
      "\ttest loss = 0.575, test accuracy = 87.33%\n",
      "Epoch 1: train loss = 0.523, train accuracy = 87.65%\n",
      "\ttest loss = 0.443, test accuracy = 89.39%\n",
      "Epoch 2: train loss = 0.436, train accuracy = 89.15%\n",
      "\ttest loss = 0.388, test accuracy = 90.39%\n",
      "Epoch 3: train loss = 0.393, train accuracy = 89.93%\n",
      "\ttest loss = 0.356, test accuracy = 90.96%\n",
      "Epoch 4: train loss = 0.366, train accuracy = 90.38%\n",
      "\ttest loss = 0.335, test accuracy = 91.41%\n",
      "Epoch 5: train loss = 0.347, train accuracy = 90.79%\n",
      "\ttest loss = 0.319, test accuracy = 91.73%\n",
      "Epoch 6: train loss = 0.332, train accuracy = 91.14%\n",
      "\ttest loss = 0.306, test accuracy = 92.06%\n",
      "Epoch 7: train loss = 0.320, train accuracy = 91.45%\n",
      "\ttest loss = 0.296, test accuracy = 92.24%\n",
      "Epoch 8: train loss = 0.310, train accuracy = 91.67%\n",
      "\ttest loss = 0.288, test accuracy = 92.36%\n",
      "Epoch 9: train loss = 0.302, train accuracy = 91.85%\n",
      "\ttest loss = 0.280, test accuracy = 92.58%\n"
     ]
    }
   ],
   "source": [
    "pretrained_model_2 = copy.deepcopy(init_model).to(DEVICE)\n",
    "with torch.no_grad():\n",
    "    pretrained_model_2.layers[0].weight.data = filters_n_1\n",
    "pretrained_model_2.layers[0].weight.requires_grad = False\n",
    "train_mnist(pretrained_model_2, *mnist_data_tuple, num_epochs=10, lr=0.01)"
   ]
  },
  {
   "cell_type": "markdown",
   "metadata": {},
   "source": [
    "## Function to easily run experiments"
   ]
  },
  {
   "cell_type": "code",
   "execution_count": 13,
   "metadata": {},
   "outputs": [],
   "source": [
    "def run_experiment(\n",
    "        model_cls,\n",
    "        train_data,\n",
    "        pretrain = False,\n",
    "        pretrain_data = None,\n",
    "        n_train_epochs = 10,\n",
    "        n_pretrain_epochs = 20,\n",
    "        train_lr = 0.001,\n",
    "        pretrain_lr = 0.1,\n",
    "        freeze_weights = False,\n",
    "        visualize_weights = False,\n",
    "        model_kwargs = {},\n",
    "        seed = 42,\n",
    "        graph = False):\n",
    "    if seed is not None:\n",
    "        torch.manual_seed(seed)\n",
    "        np.random.seed(seed)\n",
    "        random.seed(seed)\n",
    "\n",
    "    model = model_cls(**model_kwargs).to(DEVICE)\n",
    "    if pretrain:\n",
    "        out_filters = model.layers[0].weight.shape[0]\n",
    "        filter_sz = model.layers[0].weight.shape[2]\n",
    "        stride = model.layers[0].stride[0]\n",
    "        pretrain_weights, _ = train_re_conv(\n",
    "            pretrain_data, epochs=n_pretrain_epochs, lr=pretrain_lr,\n",
    "            out_filters=out_filters, filter_sz=filter_sz, stride=stride, verbose=False)\n",
    "        if visualize_weights:\n",
    "            visualize_filters(pretrain_weights, sz=5)\n",
    "\n",
    "        with torch.no_grad():\n",
    "            model.layers[0].weight.data = pretrain_weights\n",
    "    if freeze_weights:\n",
    "        model.layers[0].weight.requires_grad = False\n",
    "    \n",
    "    _, train_accs, _, valid_accs = train_mnist(model, *train_data, num_epochs=n_train_epochs, lr=train_lr, verbose=False)\n",
    "\n",
    "    if graph:\n",
    "        plt.plot(train_accs, label='train')\n",
    "        plt.plot(valid_accs, label='valid')\n",
    "        plt.legend()\n",
    "        plt.xlabel('Epoch')\n",
    "        plt.ylabel('Accuracy')\n",
    "        plt.title('Validation Accuracy')\n",
    "        plt.show()"
   ]
  },
  {
   "cell_type": "markdown",
   "metadata": {},
   "source": [
    "### Experiments"
   ]
  },
  {
   "cell_type": "code",
   "execution_count": 228,
   "metadata": {},
   "outputs": [
    {
     "name": "stderr",
     "output_type": "stream",
     "text": [
      "<ipython-input-213-016a79ebf43c>:21: UserWarning: To copy construct from a tensor, it is recommended to use sourceTensor.clone().detach() or sourceTensor.clone().detach().requires_grad_(True), rather than torch.tensor(sourceTensor).\n",
      "  x = torch.tensor(data[i:i+batch_size], dtype=torch.float32)\n",
      "<ipython-input-213-016a79ebf43c>:22: UserWarning: To copy construct from a tensor, it is recommended to use sourceTensor.clone().detach() or sourceTensor.clone().detach().requires_grad_(True), rather than torch.tensor(sourceTensor).\n",
      "  y = torch.tensor(labels[i:i+batch_size], dtype=torch.long)\n"
     ]
    },
    {
     "name": "stdout",
     "output_type": "stream",
     "text": [
      "Epoch 9: train loss = 0.073, train accuracy = 97.99%\n",
      "\ttest loss = 0.065, test accuracy = 98.12%\n"
     ]
    },
    {
     "data": {
      "image/png": "[encoded data removed]",
      "text/plain": [
       "<Figure size 432x288 with 1 Axes>"
      ]
     },
     "metadata": {
      "needs_background": "light"
     },
     "output_type": "display_data"
    }
   ],
   "source": [
    "# No pretraining baseline\n",
    "run_experiment(SmallConvNet, mnist_data_tuple, freeze_weights=False, graph=True)"
   ]
  },
  {
   "cell_type": "code",
   "execution_count": 215,
   "metadata": {},
   "outputs": [
    {
     "name": "stderr",
     "output_type": "stream",
     "text": [
      "<ipython-input-213-016a79ebf43c>:21: UserWarning: To copy construct from a tensor, it is recommended to use sourceTensor.clone().detach() or sourceTensor.clone().detach().requires_grad_(True), rather than torch.tensor(sourceTensor).\n",
      "  x = torch.tensor(data[i:i+batch_size], dtype=torch.float32)\n",
      "<ipython-input-213-016a79ebf43c>:22: UserWarning: To copy construct from a tensor, it is recommended to use sourceTensor.clone().detach() or sourceTensor.clone().detach().requires_grad_(True), rather than torch.tensor(sourceTensor).\n",
      "  y = torch.tensor(labels[i:i+batch_size], dtype=torch.long)\n"
     ]
    },
    {
     "name": "stdout",
     "output_type": "stream",
     "text": [
      "Epoch 9: train loss = 0.180, train accuracy = 95.10%\n",
      "\ttest loss = 0.171, test accuracy = 95.40%\n"
     ]
    },
    {
     "data": {
      "image/png": "[encoded data removed]",
      "text/plain": [
       "<Figure size 432x288 with 1 Axes>"
      ]
     },
     "metadata": {
      "needs_background": "light"
     },
     "output_type": "display_data"
    }
   ],
   "source": [
    "# No pretraining, frozen weights\n",
    "run_experiment(SmallConvNet, mnist_data_tuple, freeze_weights=True, graph=True)"
   ]
  },
  {
   "cell_type": "code",
   "execution_count": 216,
   "metadata": {},
   "outputs": [
    {
     "name": "stderr",
     "output_type": "stream",
     "text": [
      "<ipython-input-128-eccbb8e04cc4>:8: UserWarning: nn.init.xavier_uniform is now deprecated in favor of nn.init.xavier_uniform_.\n",
      "  nn.init.xavier_uniform(filters)\n",
      "<ipython-input-128-eccbb8e04cc4>:16: UserWarning: nn.init.xavier_uniform is now deprecated in favor of nn.init.xavier_uniform_.\n",
      "  nn.init.xavier_uniform(reverse_weights)\n"
     ]
    },
    {
     "name": "stdout",
     "output_type": "stream",
     "text": [
      "Epoch 19\tloss: 2.408\n"
     ]
    },
    {
     "name": "stderr",
     "output_type": "stream",
     "text": [
      "<ipython-input-213-016a79ebf43c>:21: UserWarning: To copy construct from a tensor, it is recommended to use sourceTensor.clone().detach() or sourceTensor.clone().detach().requires_grad_(True), rather than torch.tensor(sourceTensor).\n",
      "  x = torch.tensor(data[i:i+batch_size], dtype=torch.float32)\n",
      "<ipython-input-213-016a79ebf43c>:22: UserWarning: To copy construct from a tensor, it is recommended to use sourceTensor.clone().detach() or sourceTensor.clone().detach().requires_grad_(True), rather than torch.tensor(sourceTensor).\n",
      "  y = torch.tensor(labels[i:i+batch_size], dtype=torch.long)\n"
     ]
    },
    {
     "name": "stdout",
     "output_type": "stream",
     "text": [
      "Epoch 9: train loss = 0.182, train accuracy = 94.80%\n",
      "\ttest loss = 0.171, test accuracy = 95.18%\n"
     ]
    },
    {
     "data": {
      "image/png": "[encoded data removed]",
      "text/plain": [
       "<Figure size 432x288 with 1 Axes>"
      ]
     },
     "metadata": {
      "needs_background": "light"
     },
     "output_type": "display_data"
    }
   ],
   "source": [
    "# Pretraining, frozen weights\n",
    "run_experiment(\n",
    "    SmallConvNet, mnist_data_tuple, pretrain=True,\n",
    "    pretrain_data=mnist_data, freeze_weights=True, graph=True)"
   ]
  },
  {
   "cell_type": "code",
   "execution_count": 217,
   "metadata": {},
   "outputs": [
    {
     "name": "stderr",
     "output_type": "stream",
     "text": [
      "<ipython-input-128-eccbb8e04cc4>:8: UserWarning: nn.init.xavier_uniform is now deprecated in favor of nn.init.xavier_uniform_.\n",
      "  nn.init.xavier_uniform(filters)\n",
      "<ipython-input-128-eccbb8e04cc4>:16: UserWarning: nn.init.xavier_uniform is now deprecated in favor of nn.init.xavier_uniform_.\n",
      "  nn.init.xavier_uniform(reverse_weights)\n"
     ]
    },
    {
     "name": "stdout",
     "output_type": "stream",
     "text": [
      "Epoch 19\tloss: 2.408\n"
     ]
    },
    {
     "name": "stderr",
     "output_type": "stream",
     "text": [
      "<ipython-input-213-016a79ebf43c>:21: UserWarning: To copy construct from a tensor, it is recommended to use sourceTensor.clone().detach() or sourceTensor.clone().detach().requires_grad_(True), rather than torch.tensor(sourceTensor).\n",
      "  x = torch.tensor(data[i:i+batch_size], dtype=torch.float32)\n",
      "<ipython-input-213-016a79ebf43c>:22: UserWarning: To copy construct from a tensor, it is recommended to use sourceTensor.clone().detach() or sourceTensor.clone().detach().requires_grad_(True), rather than torch.tensor(sourceTensor).\n",
      "  y = torch.tensor(labels[i:i+batch_size], dtype=torch.long)\n"
     ]
    },
    {
     "name": "stdout",
     "output_type": "stream",
     "text": [
      "Epoch 9: train loss = 0.067, train accuracy = 98.09%\n",
      "\ttest loss = 0.063, test accuracy = 98.19%\n"
     ]
    },
    {
     "data": {
      "image/png": "[encoded data removed]",
      "text/plain": [
       "<Figure size 432x288 with 1 Axes>"
      ]
     },
     "metadata": {
      "needs_background": "light"
     },
     "output_type": "display_data"
    }
   ],
   "source": [
    "# Pretraining, trainable weights\n",
    "run_experiment(\n",
    "    SmallConvNet, mnist_data_tuple, pretrain=True,\n",
    "    pretrain_data=mnist_data, freeze_weights=False, graph=True)"
   ]
  },
  {
   "cell_type": "code",
   "execution_count": 218,
   "metadata": {},
   "outputs": [
    {
     "name": "stderr",
     "output_type": "stream",
     "text": [
      "<ipython-input-128-eccbb8e04cc4>:8: UserWarning: nn.init.xavier_uniform is now deprecated in favor of nn.init.xavier_uniform_.\n",
      "  nn.init.xavier_uniform(filters)\n",
      "<ipython-input-128-eccbb8e04cc4>:16: UserWarning: nn.init.xavier_uniform is now deprecated in favor of nn.init.xavier_uniform_.\n",
      "  nn.init.xavier_uniform(reverse_weights)\n"
     ]
    },
    {
     "name": "stdout",
     "output_type": "stream",
     "text": [
      "Epoch 19\tloss: 0.273\n"
     ]
    },
    {
     "name": "stderr",
     "output_type": "stream",
     "text": [
      "<ipython-input-213-016a79ebf43c>:21: UserWarning: To copy construct from a tensor, it is recommended to use sourceTensor.clone().detach() or sourceTensor.clone().detach().requires_grad_(True), rather than torch.tensor(sourceTensor).\n",
      "  x = torch.tensor(data[i:i+batch_size], dtype=torch.float32)\n",
      "<ipython-input-213-016a79ebf43c>:22: UserWarning: To copy construct from a tensor, it is recommended to use sourceTensor.clone().detach() or sourceTensor.clone().detach().requires_grad_(True), rather than torch.tensor(sourceTensor).\n",
      "  y = torch.tensor(labels[i:i+batch_size], dtype=torch.long)\n"
     ]
    },
    {
     "name": "stdout",
     "output_type": "stream",
     "text": [
      "Epoch 9: train loss = 0.115, train accuracy = 96.89%\n",
      "\ttest loss = 0.112, test accuracy = 96.99%\n"
     ]
    },
    {
     "data": {
      "image/png": "[encoded data removed]",
      "text/plain": [
       "<Figure size 432x288 with 1 Axes>"
      ]
     },
     "metadata": {
      "needs_background": "light"
     },
     "output_type": "display_data"
    }
   ],
   "source": [
    "# Pretraining, single sample\n",
    "run_experiment(\n",
    "    SmallConvNet, mnist_data_tuple, pretrain=True,\n",
    "    pretrain_data=mnist_data[:1], freeze_weights=True,\n",
    "    n_pretrain_epochs=20, graph=True)"
   ]
  },
  {
   "cell_type": "code",
   "execution_count": 219,
   "metadata": {},
   "outputs": [
    {
     "name": "stderr",
     "output_type": "stream",
     "text": [
      "<ipython-input-128-eccbb8e04cc4>:8: UserWarning: nn.init.xavier_uniform is now deprecated in favor of nn.init.xavier_uniform_.\n",
      "  nn.init.xavier_uniform(filters)\n",
      "<ipython-input-128-eccbb8e04cc4>:16: UserWarning: nn.init.xavier_uniform is now deprecated in favor of nn.init.xavier_uniform_.\n",
      "  nn.init.xavier_uniform(reverse_weights)\n"
     ]
    },
    {
     "name": "stdout",
     "output_type": "stream",
     "text": [
      "Epoch 19\tloss: 2.188\n"
     ]
    },
    {
     "name": "stderr",
     "output_type": "stream",
     "text": [
      "<ipython-input-213-016a79ebf43c>:21: UserWarning: To copy construct from a tensor, it is recommended to use sourceTensor.clone().detach() or sourceTensor.clone().detach().requires_grad_(True), rather than torch.tensor(sourceTensor).\n",
      "  x = torch.tensor(data[i:i+batch_size], dtype=torch.float32)\n",
      "<ipython-input-213-016a79ebf43c>:22: UserWarning: To copy construct from a tensor, it is recommended to use sourceTensor.clone().detach() or sourceTensor.clone().detach().requires_grad_(True), rather than torch.tensor(sourceTensor).\n",
      "  y = torch.tensor(labels[i:i+batch_size], dtype=torch.long)\n"
     ]
    },
    {
     "name": "stdout",
     "output_type": "stream",
     "text": [
      "Epoch 9: train loss = 0.172, train accuracy = 95.08%\n",
      "\ttest loss = 0.162, test accuracy = 95.38%\n"
     ]
    },
    {
     "data": {
      "image/png": "[encoded data removed]",
      "text/plain": [
       "<Figure size 432x288 with 1 Axes>"
      ]
     },
     "metadata": {
      "needs_background": "light"
     },
     "output_type": "display_data"
    }
   ],
   "source": [
    "# Pretraining, 100 samples\n",
    "run_experiment(\n",
    "    SmallConvNet, mnist_data_tuple, pretrain=True,\n",
    "    pretrain_data=mnist_data[:100], freeze_weights=True,\n",
    "    n_pretrain_epochs=20, graph=True)"
   ]
  },
  {
   "cell_type": "code",
   "execution_count": 220,
   "metadata": {},
   "outputs": [
    {
     "name": "stderr",
     "output_type": "stream",
     "text": [
      "<ipython-input-213-016a79ebf43c>:21: UserWarning: To copy construct from a tensor, it is recommended to use sourceTensor.clone().detach() or sourceTensor.clone().detach().requires_grad_(True), rather than torch.tensor(sourceTensor).\n",
      "  x = torch.tensor(data[i:i+batch_size], dtype=torch.float32)\n",
      "<ipython-input-213-016a79ebf43c>:22: UserWarning: To copy construct from a tensor, it is recommended to use sourceTensor.clone().detach() or sourceTensor.clone().detach().requires_grad_(True), rather than torch.tensor(sourceTensor).\n",
      "  y = torch.tensor(labels[i:i+batch_size], dtype=torch.long)\n"
     ]
    },
    {
     "name": "stdout",
     "output_type": "stream",
     "text": [
      "Epoch 1999: train loss = 0.000, train accuracy = 100.00%\n",
      "\ttest loss = 2.106, test accuracy = 70.82%\n"
     ]
    },
    {
     "data": {
      "image/png": "[encoded data removed]",
      "text/plain": [
       "<Figure size 432x288 with 1 Axes>"
      ]
     },
     "metadata": {
      "needs_background": "light"
     },
     "output_type": "display_data"
    }
   ],
   "source": [
    "# Small training set\n",
    "run_experiment(\n",
    "    SmallConvNet, (mnist_data[:100], mnist_labels[:100], mnist_test_data, mnist_test_labels),\n",
    "    freeze_weights=False, pretrain=False, n_train_epochs=2000, graph=True)"
   ]
  },
  {
   "cell_type": "code",
   "execution_count": 221,
   "metadata": {},
   "outputs": [
    {
     "name": "stderr",
     "output_type": "stream",
     "text": [
      "<ipython-input-128-eccbb8e04cc4>:8: UserWarning: nn.init.xavier_uniform is now deprecated in favor of nn.init.xavier_uniform_.\n",
      "  nn.init.xavier_uniform(filters)\n",
      "<ipython-input-128-eccbb8e04cc4>:16: UserWarning: nn.init.xavier_uniform is now deprecated in favor of nn.init.xavier_uniform_.\n",
      "  nn.init.xavier_uniform(reverse_weights)\n"
     ]
    },
    {
     "name": "stdout",
     "output_type": "stream",
     "text": [
      "Epoch 19\tloss: 0.273\n"
     ]
    },
    {
     "name": "stderr",
     "output_type": "stream",
     "text": [
      "<ipython-input-213-016a79ebf43c>:21: UserWarning: To copy construct from a tensor, it is recommended to use sourceTensor.clone().detach() or sourceTensor.clone().detach().requires_grad_(True), rather than torch.tensor(sourceTensor).\n",
      "  x = torch.tensor(data[i:i+batch_size], dtype=torch.float32)\n",
      "<ipython-input-213-016a79ebf43c>:22: UserWarning: To copy construct from a tensor, it is recommended to use sourceTensor.clone().detach() or sourceTensor.clone().detach().requires_grad_(True), rather than torch.tensor(sourceTensor).\n",
      "  y = torch.tensor(labels[i:i+batch_size], dtype=torch.long)\n"
     ]
    },
    {
     "name": "stdout",
     "output_type": "stream",
     "text": [
      "Epoch 1999: train loss = 0.000, train accuracy = 100.00%\n",
      "\ttest loss = 1.718, test accuracy = 70.79%\n"
     ]
    },
    {
     "data": {
      "image/png": "[encoded data removed]",
      "text/plain": [
       "<Figure size 432x288 with 1 Axes>"
      ]
     },
     "metadata": {
      "needs_background": "light"
     },
     "output_type": "display_data"
    }
   ],
   "source": [
    "# Pretraining & small training set\n",
    "run_experiment(\n",
    "    SmallConvNet, (mnist_data[:100], mnist_labels[:100], mnist_test_data, mnist_test_labels),\n",
    "    pretrain=True, pretrain_data=mnist_data[:1], freeze_weights=True,\n",
    "    n_pretrain_epochs=20, n_train_epochs=2000, graph=True)"
   ]
  },
  {
   "cell_type": "code",
   "execution_count": 222,
   "metadata": {},
   "outputs": [
    {
     "name": "stderr",
     "output_type": "stream",
     "text": [
      "<ipython-input-128-eccbb8e04cc4>:8: UserWarning: nn.init.xavier_uniform is now deprecated in favor of nn.init.xavier_uniform_.\n",
      "  nn.init.xavier_uniform(filters)\n",
      "<ipython-input-128-eccbb8e04cc4>:16: UserWarning: nn.init.xavier_uniform is now deprecated in favor of nn.init.xavier_uniform_.\n",
      "  nn.init.xavier_uniform(reverse_weights)\n"
     ]
    },
    {
     "name": "stdout",
     "output_type": "stream",
     "text": [
      "Epoch 19\tloss: 2.408\n"
     ]
    },
    {
     "name": "stderr",
     "output_type": "stream",
     "text": [
      "<ipython-input-213-016a79ebf43c>:21: UserWarning: To copy construct from a tensor, it is recommended to use sourceTensor.clone().detach() or sourceTensor.clone().detach().requires_grad_(True), rather than torch.tensor(sourceTensor).\n",
      "  x = torch.tensor(data[i:i+batch_size], dtype=torch.float32)\n",
      "<ipython-input-213-016a79ebf43c>:22: UserWarning: To copy construct from a tensor, it is recommended to use sourceTensor.clone().detach() or sourceTensor.clone().detach().requires_grad_(True), rather than torch.tensor(sourceTensor).\n",
      "  y = torch.tensor(labels[i:i+batch_size], dtype=torch.long)\n"
     ]
    },
    {
     "name": "stdout",
     "output_type": "stream",
     "text": [
      "Epoch 1999: train loss = 0.000, train accuracy = 100.00%\n",
      "\ttest loss = 1.813, test accuracy = 71.29%\n"
     ]
    },
    {
     "data": {
      "image/png": "[encoded data removed]",
      "text/plain": [
       "<Figure size 432x288 with 1 Axes>"
      ]
     },
     "metadata": {
      "needs_background": "light"
     },
     "output_type": "display_data"
    }
   ],
   "source": [
    "# Pretraining & small training set\n",
    "run_experiment(\n",
    "    SmallConvNet, (mnist_data[:100], mnist_labels[:100], mnist_test_data, mnist_test_labels),\n",
    "    pretrain=True, pretrain_data=mnist_data, freeze_weights=True,\n",
    "    n_pretrain_epochs=20, n_train_epochs=2000, graph=True)"
   ]
  },
  {
   "cell_type": "markdown",
   "metadata": {},
   "source": [
    "## CIFAR-10 Experiments"
   ]
  },
  {
   "cell_type": "code",
   "execution_count": 15,
   "metadata": {},
   "outputs": [],
   "source": [
    "cifar_args = {'model_kwargs': {'input_shape': (3, 32, 32)}}"
   ]
  },
  {
   "cell_type": "code",
   "execution_count": 16,
   "metadata": {},
   "outputs": [
    {
     "name": "stderr",
     "output_type": "stream",
     "text": [
      "<ipython-input-5-016a79ebf43c>:21: UserWarning: To copy construct from a tensor, it is recommended to use sourceTensor.clone().detach() or sourceTensor.clone().detach().requires_grad_(True), rather than torch.tensor(sourceTensor).\n",
      "  x = torch.tensor(data[i:i+batch_size], dtype=torch.float32)\n",
      "<ipython-input-5-016a79ebf43c>:22: UserWarning: To copy construct from a tensor, it is recommended to use sourceTensor.clone().detach() or sourceTensor.clone().detach().requires_grad_(True), rather than torch.tensor(sourceTensor).\n",
      "  y = torch.tensor(labels[i:i+batch_size], dtype=torch.long)\n"
     ]
    },
    {
     "name": "stdout",
     "output_type": "stream",
     "text": [
      "Epoch 39: train loss = 1.014, train accuracy = 65.48%\n",
      "\ttest loss = 1.126, test accuracy = 61.10%\n"
     ]
    },
    {
     "data": {
      "image/png": "[encoded data removed]",
      "text/plain": [
       "<Figure size 432x288 with 1 Axes>"
      ]
     },
     "metadata": {
      "needs_background": "light"
     },
     "output_type": "display_data"
    }
   ],
   "source": [
    "# No pretraining baseline\n",
    "run_experiment(\n",
    "    SmallConvNet, cifar_data_tuple, freeze_weights=False,\n",
    "    n_train_epochs=40, graph=True, **cifar_args)"
   ]
  },
  {
   "cell_type": "code",
   "execution_count": 17,
   "metadata": {},
   "outputs": [
    {
     "name": "stderr",
     "output_type": "stream",
     "text": [
      "<ipython-input-5-016a79ebf43c>:21: UserWarning: To copy construct from a tensor, it is recommended to use sourceTensor.clone().detach() or sourceTensor.clone().detach().requires_grad_(True), rather than torch.tensor(sourceTensor).\n",
      "  x = torch.tensor(data[i:i+batch_size], dtype=torch.float32)\n",
      "<ipython-input-5-016a79ebf43c>:22: UserWarning: To copy construct from a tensor, it is recommended to use sourceTensor.clone().detach() or sourceTensor.clone().detach().requires_grad_(True), rather than torch.tensor(sourceTensor).\n",
      "  y = torch.tensor(labels[i:i+batch_size], dtype=torch.long)\n"
     ]
    },
    {
     "name": "stdout",
     "output_type": "stream",
     "text": [
      "Epoch 39: train loss = 1.267, train accuracy = 56.96%\n",
      "\ttest loss = 1.338, test accuracy = 53.62%\n"
     ]
    },
    {
     "data": {
      "image/png": "[encoded data removed]",
      "text/plain": [
       "<Figure size 432x288 with 1 Axes>"
      ]
     },
     "metadata": {
      "needs_background": "light"
     },
     "output_type": "display_data"
    }
   ],
   "source": [
    "# No pretraining, random weights\n",
    "run_experiment(\n",
    "    SmallConvNet, cifar_data_tuple, freeze_weights=True,\n",
    "    n_train_epochs=40, graph=True, **cifar_args)"
   ]
  },
  {
   "cell_type": "code",
   "execution_count": 20,
   "metadata": {},
   "outputs": [
    {
     "name": "stderr",
     "output_type": "stream",
     "text": [
      "<ipython-input-8-eccbb8e04cc4>:8: UserWarning: nn.init.xavier_uniform is now deprecated in favor of nn.init.xavier_uniform_.\n",
      "  nn.init.xavier_uniform(filters)\n",
      "<ipython-input-8-eccbb8e04cc4>:16: UserWarning: nn.init.xavier_uniform is now deprecated in favor of nn.init.xavier_uniform_.\n",
      "  nn.init.xavier_uniform(reverse_weights)\n"
     ]
    },
    {
     "ename": "RuntimeError",
     "evalue": "shape '[784, 3, 5, 5]' is invalid for input of size 19600",
     "output_type": "error",
     "traceback": [
      "\u001b[1;31m---------------------------------------------------------------------------\u001b[0m",
      "\u001b[1;31mRuntimeError\u001b[0m                              Traceback (most recent call last)",
      "\u001b[1;32m<ipython-input-20-5a31abb3dc7b>\u001b[0m in \u001b[0;36m<module>\u001b[1;34m\u001b[0m\n\u001b[0;32m      1\u001b[0m \u001b[1;31m# Pretraining, frozen weights\u001b[0m\u001b[1;33m\u001b[0m\u001b[1;33m\u001b[0m\u001b[0m\n\u001b[1;32m----> 2\u001b[1;33m run_experiment(\n\u001b[0m\u001b[0;32m      3\u001b[0m     \u001b[0mSmallConvNet\u001b[0m\u001b[1;33m,\u001b[0m \u001b[0mcifar_data_tuple\u001b[0m\u001b[1;33m,\u001b[0m \u001b[0mpretrain\u001b[0m\u001b[1;33m=\u001b[0m\u001b[1;32mTrue\u001b[0m\u001b[1;33m,\u001b[0m\u001b[1;33m\u001b[0m\u001b[1;33m\u001b[0m\u001b[0m\n\u001b[0;32m      4\u001b[0m     pretrain_data=cifar_data, freeze_weights=True, graph=True, **cifar_args)\n",
      "\u001b[1;32m<ipython-input-13-179d3d4d9e55>\u001b[0m in \u001b[0;36mrun_experiment\u001b[1;34m(model_cls, train_data, pretrain, pretrain_data, n_train_epochs, n_pretrain_epochs, train_lr, pretrain_lr, freeze_weights, visualize_weights, model_kwargs, seed, graph)\u001b[0m\n\u001b[0;32m     23\u001b[0m         \u001b[0mfilter_sz\u001b[0m \u001b[1;33m=\u001b[0m \u001b[0mmodel\u001b[0m\u001b[1;33m.\u001b[0m\u001b[0mlayers\u001b[0m\u001b[1;33m[\u001b[0m\u001b[1;36m0\u001b[0m\u001b[1;33m]\u001b[0m\u001b[1;33m.\u001b[0m\u001b[0mweight\u001b[0m\u001b[1;33m.\u001b[0m\u001b[0mshape\u001b[0m\u001b[1;33m[\u001b[0m\u001b[1;36m2\u001b[0m\u001b[1;33m]\u001b[0m\u001b[1;33m\u001b[0m\u001b[1;33m\u001b[0m\u001b[0m\n\u001b[0;32m     24\u001b[0m         \u001b[0mstride\u001b[0m \u001b[1;33m=\u001b[0m \u001b[0mmodel\u001b[0m\u001b[1;33m.\u001b[0m\u001b[0mlayers\u001b[0m\u001b[1;33m[\u001b[0m\u001b[1;36m0\u001b[0m\u001b[1;33m]\u001b[0m\u001b[1;33m.\u001b[0m\u001b[0mstride\u001b[0m\u001b[1;33m[\u001b[0m\u001b[1;36m0\u001b[0m\u001b[1;33m]\u001b[0m\u001b[1;33m\u001b[0m\u001b[1;33m\u001b[0m\u001b[0m\n\u001b[1;32m---> 25\u001b[1;33m         pretrain_weights, _ = train_re_conv(\n\u001b[0m\u001b[0;32m     26\u001b[0m             \u001b[0mpretrain_data\u001b[0m\u001b[1;33m,\u001b[0m \u001b[0mepochs\u001b[0m\u001b[1;33m=\u001b[0m\u001b[0mn_pretrain_epochs\u001b[0m\u001b[1;33m,\u001b[0m \u001b[0mlr\u001b[0m\u001b[1;33m=\u001b[0m\u001b[0mpretrain_lr\u001b[0m\u001b[1;33m,\u001b[0m\u001b[1;33m\u001b[0m\u001b[1;33m\u001b[0m\u001b[0m\n\u001b[0;32m     27\u001b[0m             out_filters=out_filters, filter_sz=filter_sz, stride=stride, verbose=False)\n",
      "\u001b[1;32m<ipython-input-8-eccbb8e04cc4>\u001b[0m in \u001b[0;36mtrain_re_conv\u001b[1;34m(data, batch_size, epochs, lr, out_filters, filter_sz, stride, verbose)\u001b[0m\n\u001b[0;32m     30\u001b[0m                     \u001b[0mimg_patches\u001b[0m\u001b[1;33m.\u001b[0m\u001b[0mappend\u001b[0m\u001b[1;33m(\u001b[0m\u001b[0mtarget_img_patch\u001b[0m\u001b[1;33m)\u001b[0m\u001b[1;33m\u001b[0m\u001b[1;33m\u001b[0m\u001b[0m\n\u001b[0;32m     31\u001b[0m             \u001b[0mimg_patches\u001b[0m \u001b[1;33m=\u001b[0m \u001b[0mtorch\u001b[0m\u001b[1;33m.\u001b[0m\u001b[0mstack\u001b[0m\u001b[1;33m(\u001b[0m\u001b[0mimg_patches\u001b[0m\u001b[1;33m,\u001b[0m \u001b[0mdim\u001b[0m\u001b[1;33m=\u001b[0m\u001b[1;36m1\u001b[0m\u001b[1;33m)\u001b[0m\u001b[1;33m\u001b[0m\u001b[1;33m\u001b[0m\u001b[0m\n\u001b[1;32m---> 32\u001b[1;33m             \u001b[0mreversed_outputs\u001b[0m \u001b[1;33m=\u001b[0m \u001b[0mreversed_outputs\u001b[0m\u001b[1;33m.\u001b[0m\u001b[0mreshape\u001b[0m\u001b[1;33m(\u001b[0m\u001b[1;33m*\u001b[0m\u001b[0mimg_patches\u001b[0m\u001b[1;33m.\u001b[0m\u001b[0mshape\u001b[0m\u001b[1;33m[\u001b[0m\u001b[1;36m1\u001b[0m\u001b[1;33m:\u001b[0m\u001b[1;33m]\u001b[0m\u001b[1;33m)\u001b[0m\u001b[1;33m\u001b[0m\u001b[1;33m\u001b[0m\u001b[0m\n\u001b[0m\u001b[0;32m     33\u001b[0m             \u001b[0mlosses\u001b[0m \u001b[1;33m=\u001b[0m \u001b[1;33m(\u001b[0m\u001b[0mreversed_outputs\u001b[0m\u001b[1;33m.\u001b[0m\u001b[0munsqueeze\u001b[0m\u001b[1;33m(\u001b[0m\u001b[1;36m0\u001b[0m\u001b[1;33m)\u001b[0m \u001b[1;33m-\u001b[0m \u001b[0mimg_patches\u001b[0m\u001b[1;33m)\u001b[0m \u001b[1;33m**\u001b[0m \u001b[1;36m2\u001b[0m\u001b[1;33m\u001b[0m\u001b[1;33m\u001b[0m\u001b[0m\n\u001b[0;32m     34\u001b[0m             \u001b[0mloss\u001b[0m \u001b[1;33m=\u001b[0m \u001b[0mlosses\u001b[0m\u001b[1;33m.\u001b[0m\u001b[0mmean\u001b[0m\u001b[1;33m(\u001b[0m\u001b[1;33m[\u001b[0m\u001b[1;36m0\u001b[0m\u001b[1;33m,\u001b[0m \u001b[1;36m1\u001b[0m\u001b[1;33m,\u001b[0m \u001b[1;36m2\u001b[0m\u001b[1;33m]\u001b[0m\u001b[1;33m)\u001b[0m\u001b[1;33m.\u001b[0m\u001b[0msum\u001b[0m\u001b[1;33m(\u001b[0m\u001b[1;33m)\u001b[0m\u001b[1;33m\u001b[0m\u001b[1;33m\u001b[0m\u001b[0m\n",
      "\u001b[1;31mRuntimeError\u001b[0m: shape '[784, 3, 5, 5]' is invalid for input of size 19600"
     ]
    }
   ],
   "source": [
    "# Pretraining, frozen weights\n",
    "run_experiment(\n",
    "    SmallConvNet, cifar_data_tuple, pretrain=True,\n",
    "    pretrain_data=cifar_data, freeze_weights=True,\n",
    "    graph=True, **cifar_args)"
   ]
  }
 ],
 "metadata": {
  "interpreter": {
   "hash": "6717cf457fe527f2ad07ab71b4770f157b357bf37d07e7427487ba89b10c0212"
  },
  "kernelspec": {
   "display_name": "Python 3.9.7 ('ml2')",
   "language": "python",
   "name": "python3"
  },
  "language_info": {
   "codemirror_mode": {
    "name": "ipython",
    "version": 3
   },
   "file_extension": ".py",
   "mimetype": "text/x-python",
   "name": "python",
   "nbconvert_exporter": "python",
   "pygments_lexer": "ipython3",
   "version": "3.9.7"
  },
  "orig_nbformat": 4
 },
 "nbformat": 4,
 "nbformat_minor": 2
}
