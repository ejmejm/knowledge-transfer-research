{
 "cells": [
  {
   "cell_type": "code",
   "execution_count": 1,
   "metadata": {},
   "outputs": [],
   "source": [
    "from math import pi\n",
    "\n",
    "import matplotlib.pyplot as plt\n",
    "import numpy as np\n",
    "import jbw\n",
    "\n",
    "%matplotlib inline"
   ]
  },
  {
   "cell_type": "code",
   "execution_count": null,
   "metadata": {},
   "outputs": [],
   "source": [
    "# name, scent, color, required_item_counts ([0]*n), required_item_costs ([0]*n),\n",
    "# blocks_movement (False), visual_occlusion (90% 0, 10% [0 - 1]),\n",
    "# intensity_fn (CONSTANT), intensity_fn_args [-10 - -2],\n",
    "# interaction_fns"
   ]
  },
  {
   "cell_type": "code",
   "execution_count": 2,
   "metadata": {},
   "outputs": [],
   "source": [
    "items = []\n",
    "# name, scent, color, required_item_counts, required_item_costs,\n",
    "# blocks_movement, visual_occlusion, intensity_fn, intensity_fn_args, interaction_fns\n",
    "items.append(jbw.Item(\"banana\", [1.0, 1.0, 0.0], [1.0, 1.0, 0.0], [0], [0], False, 0.0,\n",
    "        intensity_fn=jbw.IntensityFunction.CONSTANT, intensity_fn_args=[-2.0],\n",
    "        interaction_fns=[[jbw.InteractionFunction.PIECEWISE_BOX, 40.0, 200.0, 0.0, -40.0]]))\n",
    "\n",
    "# construct the simulator configuration\n",
    "config = jbw.SimulatorConfig(max_steps_per_movement=1, vision_range=1,\n",
    "  allowed_movement_directions=[jbw.ActionPolicy.ALLOWED, jbw.ActionPolicy.DISALLOWED, jbw.ActionPolicy.DISALLOWED, jbw.ActionPolicy.DISALLOWED],\n",
    "  allowed_turn_directions=[jbw.ActionPolicy.DISALLOWED, jbw.ActionPolicy.DISALLOWED, jbw.ActionPolicy.ALLOWED, jbw.ActionPolicy.ALLOWED],\n",
    "  no_op_allowed=False, patch_size=32, mcmc_num_iter=4000, items=items, agent_color=[0.0, 0.0, 1.0],\n",
    "  collision_policy=jbw.MovementConflictPolicy.FIRST_COME_FIRST_SERVED, agent_field_of_view=2*pi,\n",
    "  decay_param=0.4, diffusion_param=0.14, deleted_item_lifetime=2000)\n",
    "\n",
    "def reward_fn(prev_items, items):\n",
    "    \"\"\"\n",
    "    Reference for item indicies:\n",
    "    0 - Banana: 0 reward\n",
    "    1 - Onion: -1 reward for every one collected\n",
    "    2 - JellyBean: +1 reward for every one collected\n",
    "    3 - Wall: 0 reward, cannot collect\n",
    "    4 - Tree: 0 reward, cannot collect\n",
    "    5 - Truffle: 0 reward\n",
    "    \"\"\"\n",
    "    reward_array = np.array([0, -1, 1, 0, 0, 0])\n",
    "    diff = items - prev_items\n",
    "\n",
    "    return (diff * reward_array).sum().astype(np.float32)"
   ]
  },
  {
   "cell_type": "code",
   "execution_count": 3,
   "metadata": {},
   "outputs": [
    {
     "name": "stderr",
     "output_type": "stream",
     "text": [
      "C:\\Users\\ninja\\.conda\\envs\\ml2\\lib\\site-packages\\gym\\logger.py:34: UserWarning: \u001b[33mWARN: Box bound precision lowered by casting to float32\u001b[0m\n",
      "  warnings.warn(colorize(\"%s: %s\" % (\"WARN\", msg % args), \"yellow\"))\n"
     ]
    }
   ],
   "source": [
    "env = jbw.JBWEnv(\n",
    "    sim_config = config,\n",
    "    reward_fn = reward_fn,\n",
    "    render = False)"
   ]
  },
  {
   "cell_type": "code",
   "execution_count": 10,
   "metadata": {},
   "outputs": [],
   "source": [
    "obs, reward, done, _ = env.step(0)"
   ]
  },
  {
   "cell_type": "code",
   "execution_count": 13,
   "metadata": {},
   "outputs": [
    {
     "data": {
      "text/plain": [
       "array([[[0., 0., 0.],\n",
       "        [0., 0., 0.],\n",
       "        [0., 0., 0.]],\n",
       "\n",
       "       [[0., 0., 0.],\n",
       "        [0., 0., 1.],\n",
       "        [0., 0., 0.]],\n",
       "\n",
       "       [[0., 0., 0.],\n",
       "        [0., 0., 0.],\n",
       "        [0., 0., 0.]]], dtype=float32)"
      ]
     },
     "execution_count": 13,
     "metadata": {},
     "output_type": "execute_result"
    }
   ],
   "source": [
    "obs['vision']"
   ]
  },
  {
   "cell_type": "code",
   "execution_count": null,
   "metadata": {},
   "outputs": [],
   "source": [
    "class SimpleAgent(jbw.Agent):\n",
    "  def __init__(self, simulator, load_filepath=None):\n",
    "    super(SimpleAgent, self).__init__(simulator, load_filepath)\n",
    "\n",
    "  def do_next_action(self):\n",
    "    self.move(jbw.RelativeDirection.FORWARD)\n",
    "\n",
    "  def save(self, filepath):\n",
    "    pass\n",
    "\n",
    "  def _load(self, filepath):\n",
    "    pass\n",
    "\n",
    "\n",
    "# specify the item types\n",
    "items = []\n",
    "items.append(jbw.Item(\"banana\", [1.0, 1.0, 0.0], [1.0, 1.0, 0.0], [0], [0], False, 0.0,\n",
    "        intensity_fn=jbw.IntensityFunction.CONSTANT, intensity_fn_args=[-2.0],\n",
    "        interaction_fns=[[jbw.InteractionFunction.PIECEWISE_BOX, 40.0, 200.0, 0.0, -40.0]]))\n",
    "\n",
    "# construct the simulator configuration\n",
    "config = jbw.SimulatorConfig(max_steps_per_movement=1, vision_range=1,\n",
    "  allowed_movement_directions=[jbw.ActionPolicy.ALLOWED, jbw.ActionPolicy.DISALLOWED, jbw.ActionPolicy.DISALLOWED, jbw.ActionPolicy.DISALLOWED],\n",
    "  allowed_turn_directions=[jbw.ActionPolicy.DISALLOWED, jbw.ActionPolicy.DISALLOWED, jbw.ActionPolicy.ALLOWED, jbw.ActionPolicy.ALLOWED],\n",
    "  no_op_allowed=False, patch_size=32, mcmc_num_iter=4000, items=items, agent_color=[0.0, 0.0, 1.0],\n",
    "  collision_policy=jbw.MovementConflictPolicy.FIRST_COME_FIRST_SERVED, agent_field_of_view=2*pi,\n",
    "  decay_param=0.4, diffusion_param=0.14, deleted_item_lifetime=2000)\n",
    "\n",
    "# create a local simulator\n",
    "sim = jbw.Simulator(sim_config=config)\n",
    "\n",
    "# add one agent to the simulation\n",
    "agent = SimpleAgent(sim)\n",
    "\n",
    "# start the main loop\n",
    "for t in range(10000):\n",
    "  agent.do_next_action()"
   ]
  }
 ],
 "metadata": {
  "interpreter": {
   "hash": "6717cf457fe527f2ad07ab71b4770f157b357bf37d07e7427487ba89b10c0212"
  },
  "kernelspec": {
   "display_name": "Python 3.9.7 ('ml2')",
   "language": "python",
   "name": "python3"
  },
  "language_info": {
   "codemirror_mode": {
    "name": "ipython",
    "version": 3
   },
   "file_extension": ".py",
   "mimetype": "text/x-python",
   "name": "python",
   "nbconvert_exporter": "python",
   "pygments_lexer": "ipython3",
   "version": "3.9.7"
  },
  "orig_nbformat": 4
 },
 "nbformat": 4,
 "nbformat_minor": 2
}
